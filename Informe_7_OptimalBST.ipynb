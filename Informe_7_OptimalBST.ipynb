{
  "nbformat": 4,
  "nbformat_minor": 0,
  "metadata": {
    "colab": {
      "provenance": []
    },
    "kernelspec": {
      "name": "python3",
      "display_name": "Python 3"
    },
    "language_info": {
      "name": "python"
    }
  },
  "cells": [
    {
      "cell_type": "markdown",
      "source": [
        "#1. Descripción del problema\n",
        "\n",
        "Si, por ejemplo, queremos traducir un texto del inglés al español, para cada palabra tendremos que buscar su traducción al español (traducir no funciona así pero finjamos que si), por lo que podríamos construir un árbol de búsqueda para tener un tiempo de ejecución más controlado. Pero el motivo más importante, es para armarlo de cierta forma tal que las palabras más buscadas estén cerca de la raíz, reduciendo el tiempo que se usará en buscarlas, y he aquí el problema que este algoritmos resuelve, el de reducir la cantidad de nodos visitados en cada búsqueda que haga.\n",
        "\n",
        "Entrada: Secuencia ordenada de n claves: $K=\\left<k_1,k_2,...,k_n\\right>$. Cada clave $k_i$ tiene una probabilidad $p_i$ de ser buscada. Existen claves ficticias $d_i$ que representan búsquedas fallidas con $k_{i-1} \\leq d_i \\leq k_i$. Cada clave $d_i$ tiene una probabilidad $q_i$ de ser buscada. La suma de probabilidades debe ser uno, es decir: $\\sum\\limits_{i=1}^n p_i + \\sum\\limits_{j=0}^n q_i = 1$\n",
        "\n",
        "Salida: Construir un árbol de búsqueda óptimo, es decir, un árbol que minimice la cantidad esperada de nodos visitados (costo esperado)."
      ],
      "metadata": {
        "id": "A2cgdXx8gnYy"
      }
    },
    {
      "cell_type": "markdown",
      "source": [
        "#2. Código del árbol binario de búsqueda óptimo"
      ],
      "metadata": {
        "id": "z5Kja8OmgoCs"
      }
    },
    {
      "cell_type": "markdown",
      "source": [
        "## 2.1  Recursivo"
      ],
      "metadata": {
        "id": "kTYgI50YhO_f"
      }
    },
    {
      "cell_type": "code",
      "source": [
        "def ArbolOptimoRecursivo(keys, prob, i, j, recursiones = 0,  verbose = False, visualize = False):\n",
        "    if visualize == True: print(\"to be added\")\n",
        "    if j < i:\n",
        "        if verbose == True: print(\"No hay elementos en este sub-arreglo\")\n",
        "        return 0, recursiones\n",
        "    if j == i:\n",
        "        if verbose == True: print(\"Solo hay 1 elemento en este sub-arreglo\")\n",
        "        return prob[i], recursiones\n",
        "\n",
        "    fsum = 0\n",
        "    for k in range(i, j + 1):\n",
        "        fsum += prob[k]\n",
        "    if verbose == True: print(\"Sumatoria de Probabilidades =\", fsum)\n",
        "     \n",
        "    Min = 99999999\n",
        "\n",
        "    for r in range(i, j + 1):\n",
        "        if verbose == True: print(\"\\nTomando como raíz al elemento\", r+1, \"de frecuencia\", prob[r])\n",
        "\n",
        "        recursiones+=1\n",
        "        if verbose == True: print(\"\\nResolviendo sub-arbol Izquierdo\", prob[i:r])\n",
        "        costIzq, recursiones = ArbolOptimoRecursivo(keys, prob, i, r - 1, recursiones, visualize, verbose)\n",
        "\n",
        "        recursiones+=1\n",
        "        if verbose == True: print(\"\\nResolviendo sub-arbol Derecho\", prob[r+1:j+1])\n",
        "        costDer, recursiones = ArbolOptimoRecursivo(keys, prob, r + 1, j, recursiones, visualize, verbose)\n",
        "\n",
        "        if verbose == True: print(\"\\nSumando ambos costos\", costIzq, \"+\", costDer, \"=\", costIzq + costDer)\n",
        "        if verbose == True: print(\"Comparando Nuevo Costo con Costo Minimo Actual (\", cost,\",\",Min,\" )\")\n",
        "        if (costIzq + costDer) < Min:\n",
        "            if verbose == True: print(\"Nuevo Costo es menor\")\n",
        "            if verbose == True: print(\"Costo Minimo =\", Min)\n",
        "        else:\n",
        "            if verbose == True: print(\"Costo Minimo Actual es menor, se mantiene\")\n",
        "        Min = min(costIzq + costDer, Min)\n",
        "\n",
        "    return Min + fsum, recursiones"
      ],
      "metadata": {
        "id": "6WTOJ3QLgoS0"
      },
      "execution_count": 8,
      "outputs": []
    },
    {
      "cell_type": "code",
      "source": [
        "keys = [10, 12, 20]\n",
        "freq = [34, 8, 50]\n",
        "print(\"Entrada:\")\n",
        "print(\"K =\", keys)\n",
        "print(\"P =\", prob)\n",
        "cost, recursiones = ArbolOptimoRecursivo(keys, prob, 0, len(prob)-1)\n",
        "print(\"\\nSalida:\")\n",
        "print(\"Costo del Árbol Óptimo\", cost)\n",
        "print(\"Recursiones:\", recursiones)"
      ],
      "metadata": {
        "colab": {
          "base_uri": "https://localhost:8080/"
        },
        "id": "H7zuJbhEVF12",
        "outputId": "f4ed6cc5-9254-42b4-f5ec-09456e3a6a05"
      },
      "execution_count": 9,
      "outputs": [
        {
          "output_type": "stream",
          "name": "stdout",
          "text": [
            "Entrada:\n",
            "K = [10, 12, 20]\n",
            "P = [34, 8, 50]\n",
            "\n",
            "Salida:\n",
            "Costo del Árbol Óptimo 142\n",
            "Recursiones: 14\n"
          ]
        }
      ]
    },
    {
      "cell_type": "markdown",
      "source": [
        "### 2.1.1 Explicación del algoritmo recursivo\n",
        "El algoritmo **Árbol binario de búsqueda óptimo (recursivo)** calcula todas las posibles combinaciones de árboles y retorna el más óptimo y su costo esperado, es decir, el árbol que minimiza la cantidad esperada de nodos visitados.\n",
        "\n",
        "Para ello recibe como entrada una secuencia ordenada de n claves $K = [k_1, k_2, ..., k_n]$ y una secuencia de probabilidades $P = [p_1, p_2, ..., p_n]$ donde $p_i$ es la probabilidad de que $k_i$ sea buscada. Luego:\n",
        "\n",
        "1. Verifica si el sub-árbol está vacío, de ser así retorna $0$.\n",
        "\n",
        "2. Verifica si el sub-árbol solo tiene un elemento, de ser así retorna su costo.\n",
        "\n",
        "3. Calcula la sumatoria de probabilidades del sub-árbol.\n",
        "\n",
        "4. Para cada nodo del sub-árbol:\n",
        "\n",
        "    4.1. Asume que es la raíz y recursiona con el sub-árbol izquierdo y el derecho de este nodo.\n",
        "    4.2. Guarda el coste menor entre el coste anterior o la suma del costo de ambos sub-árboles.\n",
        "\n",
        "5. Retorna el costo menor guardado.\n",
        "\n",
        "> Cuando la variable `verbose` es `True` se muestra información para ver lo que pasa a medida que se ejecuta el código dentro de la función."
      ],
      "metadata": {
        "id": "_UZuPQBdWx6s"
      }
    },
    {
      "cell_type": "markdown",
      "source": [
        "### 2.1.2 Ejemplo\n",
        "Consideremos, por ejemplo, el arreglo de claves y sus probabilidades de ser buscadas:\n",
        "\n",
        "$K = [3, 5, 7]$\n",
        "\n",
        "$P = [30, 60, 10]$\n",
        "\n",
        "Primero verifica si el arbol está vacío y luego si solo tiene un elemento, este no es el caso por lo cual continúa.\n",
        "\n",
        "Luego calcula la sumatoria de todas las probabilidades lo cual es $100$%.\n",
        "\n",
        "Ahora entra en un ciclo desde el inicio del arbol hasta el final:\n",
        "\n",
        "- En la 1ra iteración:\n",
        "    - Se toma como raíz al  1er  elemento de frecuencia $ 30 $.\n",
        "    - Se resuelve sub-arbol Izquierdo:\n",
        "        - No hay elementos en este sub-arreglo, se retorna $0$.\n",
        "    - Se resuelve el sub-arbol Derecho $[60, 10]$:\n",
        "        - Se calcula la Sumatoria de Probabilidades la cual es $ 70 $.\n",
        "        - Ahora entra en un ciclo desde el inicio hasta el final del sub-arbol:\n",
        "        - En la 1ra iteración:\n",
        "            - Se toma como raíz al  2do  elemento de frecuencia $ 60 $.\n",
        "            - Se resuelve sub-arbol Izquierdo:\n",
        "                - No hay elementos en este sub-arreglo, se retorna $0$.\n",
        "            - Se resuelve el sub-arbol Derecho $[10]$:\n",
        "                - Solo hay 1 elemento en este sub-arreglo por lo que se retorna el único valor  = $ 10 $.\n",
        "            - Se Compara la suma de ambos costos $(10)$ con el Costo Minimo Actual (    999999999999 ):\n",
        "            - El nuevo Costo es menor por lo que se reemplaza.\n",
        "        - En la 2da iteración:\n",
        "            - Se toma como raíz al 3er elemento de frecuencia $ 10 $.\n",
        "            - Se resuelve sub-arbol Izquierdo $[60]$:\n",
        "                - Solo hay 1 elemento en este sub-arreglo por lo que se retorna el único va lo   r  = $ 60 $.\n",
        "            - Se resuelve el sub-arbol Derecho:\n",
        "                - No hay elementos en este sub-arreglo, se retorna $0$.\n",
        "            - Se Compara la suma de ambos costos $( 60 )$ con el Costo Minimo Actual ( 10 ):   \n",
        "            - El Costo Minimo Actual es menor por lo que se mantiene.\n",
        "        - Se retorna la suma entre la Sumatoria de Probabilidades y el Valor Mínimo la  cual es $ 80 $.\n",
        "    - Se Compara la suma de ambos costos $( 80 )$ con el Costo Minimo Actual $(    999999999999 )$:\n",
        "    - El nuevo Costo es menor por lo que se reemplaza.\n",
        "- En la 2da iteración:\n",
        "    - Se toma como raíz al  2do  elemento de frecuencia $ 60 $.\n",
        "    - Se resuelve sub-arbol Izquierdo $[30]$ :\n",
        "        - Solo hay 1 elemento en este sub-arreglo por lo que se retorna el único valor  = $ 30 $.\n",
        "    - Se resuelve el sub-arbol Derecho $[10]$ :\n",
        "        - Solo hay 1 elemento en este sub-arreglo por lo que se retorna el único valor  = $ 10 $.\n",
        "    - Se Compara la suma de ambos costos $( 40 )$ con el Costo Minimo Actual $( 80 )$:\n",
        "    - El nuevo Costo es menor por lo que se reemplaza.\n",
        "- En la 3ra iteración:\n",
        "    - Se toma como raíz al  3er  elemento de frecuencia $ 10 $.\n",
        "    - Se resuelve sub-arbol Izquierdo $[30, 60]$ :\n",
        "        - Se calcula la Sumatoria de Probabilidades la cual es $ 90 $.\n",
        "        - Ahora entra en un ciclo desde el inicio hasta el final del sub-arbol:\n",
        "            - En la 1ra iteración:\n",
        "                - Se toma como raíz al  1er  elemento de frecuencia $ 30 $.\n",
        "                - Se resuelve sub-arbol Izquierdo:\n",
        "                    - No hay elementos en este sub-arreglo, se retorna $0$.\n",
        "                - Se resuelve el sub-arbol Derecho $[60]$ :\n",
        "                    - Solo hay 1 elemento en este sub-arreglo por lo que se retorna el único valor  = $ 60 $.\n",
        "                - Se Compara la suma de ambos costos $( 60 )$ con el Costo Minimo Actual $(999999999999)$:\n",
        "                - El nuevo Costo es menor por lo que se reemplaza.\n",
        "            - En la 2da iteración:\n",
        "                - Se toma como raíz al  2do  elemento de frecuencia $ 60 $.\n",
        "                - Se resuelve sub-arbol Izquierdo $[30]$ :\n",
        "                    - Solo hay 1 elemento en este sub-arreglo por lo que se retorna el único valor  = $ 30 $.\n",
        "                - Se resuelve el sub-arbol Derecho:\n",
        "                    - No hay elementos en este sub-arreglo, se retorna $0$.\n",
        "                - Se Compara la suma de ambos costos $(30)$ con el Costo Minimo Actual $(60)$:   \n",
        "                - El nuevo Costo es menor por lo que se reemplaza.\n",
        "            - Se retorna la suma entre la Sumatoria de Probabilidades y el Valor Mínimo la  cual es $ 120 $.\n",
        "    - Se resuelve el sub-arbol Derecho:\n",
        "        - No hay elementos en este sub-arreglo, se retorna $0$.\n",
        "    - Se Compara la suma de ambos costos $( 120 )$ con el Costo Minimo Actual $( 40 )$  :\n",
        "    - El Costo Minimo Actual es menor por lo que se mantiene.\n",
        "- Se retorna la suma entre la Sumatoria de Probabilidades y el Valor Mínimo la  cual es $ 140 $.\n",
        "\n",
        "Con ello finaliza el algoritmo."
      ],
      "metadata": {
        "id": "v2qXovg6HP7w"
      }
    },
    {
      "cell_type": "markdown",
      "source": [
        "### 2.1.3 Ejemplo (Verbose = True)"
      ],
      "metadata": {
        "id": "R5JmEdE_tDZ6"
      }
    },
    {
      "cell_type": "code",
      "source": [
        "keys = [1, 4, 5]\n",
        "prob = [12, 28, 60]\n",
        "print(\"Entrada:\")\n",
        "print(\"K =\", keys)\n",
        "print(\"P =\", prob)\n",
        "cost, recursiones = ArbolOptimoRecursivo(keys, prob, 0, len(prob)-1, 0, True)\n",
        "print(\"\\nSalida:\")\n",
        "print(\"Costo del Árbol Óptimo\", cost)\n",
        "print(\"Recursiones:\", recursiones)"
      ],
      "metadata": {
        "colab": {
          "base_uri": "https://localhost:8080/"
        },
        "id": "Z2p0ZhpStDMk",
        "outputId": "6a377874-4f45-40cb-e240-a9029143857f"
      },
      "execution_count": 10,
      "outputs": [
        {
          "output_type": "stream",
          "name": "stdout",
          "text": [
            "Entrada:\n",
            "K = [1, 4, 5]\n",
            "P = [12, 28, 60]\n",
            "Sumatoria de Probabilidades = 100\n",
            "\n",
            "Tomando como raíz al elemento 1 de frecuencia 12\n",
            "\n",
            "Resolviendo sub-arbol Izquierdo []\n",
            "to be added\n",
            "\n",
            "Resolviendo sub-arbol Derecho [28, 60]\n",
            "to be added\n",
            "No hay elementos en este sub-arreglo\n",
            "Solo hay 1 elemento en este sub-arreglo\n",
            "Solo hay 1 elemento en este sub-arreglo\n",
            "No hay elementos en este sub-arreglo\n",
            "\n",
            "Sumando ambos costos 0 + 116 = 116\n",
            "Comparando Nuevo Costo con Costo Minimo Actual ( 142 , 99999999  )\n",
            "Nuevo Costo es menor\n",
            "Costo Minimo = 99999999\n",
            "\n",
            "Tomando como raíz al elemento 2 de frecuencia 28\n",
            "\n",
            "Resolviendo sub-arbol Izquierdo [12]\n",
            "to be added\n",
            "\n",
            "Resolviendo sub-arbol Derecho [60]\n",
            "to be added\n",
            "\n",
            "Sumando ambos costos 12 + 60 = 72\n",
            "Comparando Nuevo Costo con Costo Minimo Actual ( 142 , 116  )\n",
            "Nuevo Costo es menor\n",
            "Costo Minimo = 116\n",
            "\n",
            "Tomando como raíz al elemento 3 de frecuencia 60\n",
            "\n",
            "Resolviendo sub-arbol Izquierdo [12, 28]\n",
            "to be added\n",
            "No hay elementos en este sub-arreglo\n",
            "Solo hay 1 elemento en este sub-arreglo\n",
            "Solo hay 1 elemento en este sub-arreglo\n",
            "No hay elementos en este sub-arreglo\n",
            "\n",
            "Resolviendo sub-arbol Derecho []\n",
            "to be added\n",
            "\n",
            "Sumando ambos costos 52 + 0 = 52\n",
            "Comparando Nuevo Costo con Costo Minimo Actual ( 142 , 72  )\n",
            "Nuevo Costo es menor\n",
            "Costo Minimo = 72\n",
            "\n",
            "Salida:\n",
            "Costo del Árbol Óptimo 152\n",
            "Recursiones: 14\n"
          ]
        }
      ]
    },
    {
      "cell_type": "markdown",
      "source": [
        "## 2.2 Bottom-up (Dinámico)"
      ],
      "metadata": {
        "id": "m65GmsnJhPfY"
      }
    },
    {
      "cell_type": "code",
      "source": [
        "import numpy as np\n",
        "import random  \n",
        "import networkx as nx\n",
        "import pydot\n",
        "from networkx.drawing.nx_pydot import graphviz_layout\n",
        "def ArbolOptimoDinamico(keys, prob, verbose = False, visualize = False):\n",
        " \n",
        "    count = 0\n",
        "    n = len(prob)\n",
        " \n",
        "    if verbose == True: print(\"Creando la matriz auxiliar para almacenar el costo óptimo\")\n",
        "    cost = [[0] * n for i in range(n)]\n",
        "    if verbose == True: print(np.matrix(cost))\n",
        " \n",
        "    if verbose == True: print(\"\\nSe inicializa el caso base de la probabilidad de cada clave individual\")\n",
        "    for i in range(n):\n",
        "        cost[i][i] = prob[i]\n",
        "    if verbose == True: print(np.matrix(cost))\n",
        "\n",
        "    if verbose == True: print(\"\\nEntrando al 1er for\")\n",
        "    for size in range(1, n + 1):\n",
        "\n",
        "        if verbose == True: print(\"\\nEntrando al 2do for\")\n",
        "        for i in range(n - size + 1):\n",
        "\n",
        "            if verbose == True: print(\"\\ni =\",i)\n",
        "            j = min(i + size - 1, n - 1)\n",
        "\n",
        "            if verbose == True: print(\"j = Min( i +\",size-1,\",\",n-1,\")\")\n",
        "            cost[i][j] = 9999999999\n",
        "\n",
        "            if verbose == True: print(\"Matriz actual de Costos:\")\n",
        "            if verbose == True: print(np.matrix(cost))\n",
        "\n",
        "            if verbose == True: print(\"\\nEntrando al 3r for\")\n",
        "            for r in range(i, j + 1):\n",
        "                total = 0\n",
        "\n",
        "                for k in range(i, j + 1):\n",
        "                    total += prob[k]\n",
        "                if verbose == True: print(\"total =\", total)\n",
        "\n",
        "                if r != i:\n",
        "                    if verbose == True: print(\"cost Izq =\", cost[i][r-1])\n",
        "                    total += cost[i][r - 1]\n",
        "\n",
        "                if r != j:\n",
        "                    if verbose == True: print(\"cost Izq =\", cost[r+1][j])\n",
        "                    total += cost[r + 1][j]\n",
        "\n",
        "                if verbose == True: print(\"total vs cost[i][j]\")\n",
        "                if verbose == True: print(total,\"vs\",cost[i][j])\n",
        "\n",
        "                if total < cost[i][j]:\n",
        "                    if verbose == True: print(\"Nuevo costo es menor, actualizando\")\n",
        "                else:\n",
        "                    if verbose == True: print(\"Costo actual es menor, sin cambios\")\n",
        "                cost[i][j] = min(total, cost[i][j])\n",
        "\n",
        "                count+=1\n",
        "            \n",
        "            if verbose == True: print(\"\\nMatriz después del 3er for:\")\n",
        "            if verbose == True: print(np.matrix(cost))\n",
        "    \n",
        "    if verbose == True: print(\"\\nMatriz final de costos:\")\n",
        "    if verbose == True: print(np.matrix(cost))\n",
        "\n",
        "    if visualize == True: mostrarArbol(keys, prob, cost)\n",
        "\n",
        "    return cost[0][n - 1], count"
      ],
      "metadata": {
        "id": "08if4WXOhPul"
      },
      "execution_count": 11,
      "outputs": []
    },
    {
      "cell_type": "code",
      "source": [
        "keys = [10, 12, 20, 22, 23, 32]\n",
        "prob = [12, 28, 30, 16, 8, 6]\n",
        "print(\"Entrada:\")\n",
        "print(\"K =\", keys)\n",
        "print(\"P =\", prob)\n",
        "cost, count = ArbolOptimoDinamico(keys, prob)\n",
        "print(\"\\nSalida:\")\n",
        "print(\"Costo del Árbol Óptimo\", cost)\n",
        "print(\"Subproblemas resueltos =\", count)"
      ],
      "metadata": {
        "id": "FKO3I8AbVHNN",
        "colab": {
          "base_uri": "https://localhost:8080/"
        },
        "outputId": "5a041fdf-905e-45b8-c301-06380e99dae6"
      },
      "execution_count": 12,
      "outputs": [
        {
          "output_type": "stream",
          "name": "stdout",
          "text": [
            "Entrada:\n",
            "K = [10, 12, 20, 22, 23, 32]\n",
            "P = [12, 28, 30, 16, 8, 6]\n",
            "\n",
            "Salida:\n",
            "Costo del Árbol Óptimo 202\n",
            "Subproblemas resueltos = 56\n"
          ]
        }
      ]
    },
    {
      "cell_type": "markdown",
      "source": [
        "### 2.2.1 Explicación del algoritmo Bottom-up\n",
        "El algoritmo **Árbol binario de búsqueda óptimo (dinámico)** calcula el árbol binario más óptimo y su costo esperado, es decir, el árbol que minimiza la cantidad esperada de nodos visitados.\n",
        "\n",
        "Para ello recibe como entrada una secuencia ordenada de n claves $K = [k_1, k_2, ..., k_n]$ y una secuencia de probabilidades $P = [p_1, p_2, ..., p_n]$ donde $p_i$ es la probabilidad de que $k_i$ sea buscada. Luego:\n",
        "\n",
        "1. Crea una matriz cuadrada de $n^2$ elementos.\n",
        "\n",
        "2. Inicializa la diagonal principal con la probabilidad de cada llave (i=j).\n",
        "\n",
        "3. Para $i$ desde 0\n",
        "\n",
        ". Retorna el costo menor guardado.\n",
        "\n",
        "> Cuando la variable `verbose` es `True` se muestra información para ver lo que pasa a medida que se ejecuta el código dentro de la función."
      ],
      "metadata": {
        "id": "qflU5ccpik5B"
      }
    },
    {
      "cell_type": "markdown",
      "source": [
        "### 2.2.2 Ejemplo\n"
      ],
      "metadata": {
        "id": "n8SN9HeUiqM6"
      }
    },
    {
      "cell_type": "markdown",
      "source": [
        "### 2.2.3 Ejemplo (Verbose = True)\n"
      ],
      "metadata": {
        "id": "X4CVfQOdHwve"
      }
    },
    {
      "cell_type": "code",
      "source": [
        "keys = [10, 12, 20]\n",
        "prob = [34, 8, 50]\n",
        "print(\"Entrada:\")\n",
        "print(\"K =\", keys)\n",
        "print(\"P =\", prob)\n",
        "cost, count = ArbolOptimoDinamico(keys, prob, True)\n",
        "print(\"\\nSalida:\")\n",
        "print(\"Costo del Árbol Óptimo\", cost)\n",
        "print(\"Subproblemas resueltos =\", count)"
      ],
      "metadata": {
        "colab": {
          "base_uri": "https://localhost:8080/"
        },
        "id": "GqwUcf_DIAjN",
        "outputId": "2002129f-d847-4ad1-9756-6d5afe0f1b8f"
      },
      "execution_count": 13,
      "outputs": [
        {
          "output_type": "stream",
          "name": "stdout",
          "text": [
            "Entrada:\n",
            "K = [10, 12, 20]\n",
            "P = [34, 8, 50]\n",
            "Creando la matriz auxiliar para almacenar el costo óptimo\n",
            "[[0 0 0]\n",
            " [0 0 0]\n",
            " [0 0 0]]\n",
            "\n",
            "Se inicializa el caso base de la probabilidad de cada clave individual\n",
            "[[34  0  0]\n",
            " [ 0  8  0]\n",
            " [ 0  0 50]]\n",
            "\n",
            "Entrando al 1er for\n",
            "\n",
            "Entrando al 2do for\n",
            "\n",
            "i = 0\n",
            "j = Min( i + 0 , 2 )\n",
            "Matriz actual de Costos:\n",
            "[[9999999999          0          0]\n",
            " [         0          8          0]\n",
            " [         0          0         50]]\n",
            "\n",
            "Entrando al 3r for\n",
            "total = 34\n",
            "total vs cost[i][j]\n",
            "34 vs 9999999999\n",
            "Nuevo costo es menor, actualizando\n",
            "\n",
            "Matriz después del 3er for:\n",
            "[[34  0  0]\n",
            " [ 0  8  0]\n",
            " [ 0  0 50]]\n",
            "\n",
            "i = 1\n",
            "j = Min( i + 0 , 2 )\n",
            "Matriz actual de Costos:\n",
            "[[        34          0          0]\n",
            " [         0 9999999999          0]\n",
            " [         0          0         50]]\n",
            "\n",
            "Entrando al 3r for\n",
            "total = 8\n",
            "total vs cost[i][j]\n",
            "8 vs 9999999999\n",
            "Nuevo costo es menor, actualizando\n",
            "\n",
            "Matriz después del 3er for:\n",
            "[[34  0  0]\n",
            " [ 0  8  0]\n",
            " [ 0  0 50]]\n",
            "\n",
            "i = 2\n",
            "j = Min( i + 0 , 2 )\n",
            "Matriz actual de Costos:\n",
            "[[        34          0          0]\n",
            " [         0          8          0]\n",
            " [         0          0 9999999999]]\n",
            "\n",
            "Entrando al 3r for\n",
            "total = 50\n",
            "total vs cost[i][j]\n",
            "50 vs 9999999999\n",
            "Nuevo costo es menor, actualizando\n",
            "\n",
            "Matriz después del 3er for:\n",
            "[[34  0  0]\n",
            " [ 0  8  0]\n",
            " [ 0  0 50]]\n",
            "\n",
            "Entrando al 2do for\n",
            "\n",
            "i = 0\n",
            "j = Min( i + 1 , 2 )\n",
            "Matriz actual de Costos:\n",
            "[[        34 9999999999          0]\n",
            " [         0          8          0]\n",
            " [         0          0         50]]\n",
            "\n",
            "Entrando al 3r for\n",
            "total = 42\n",
            "cost Izq = 8\n",
            "total vs cost[i][j]\n",
            "50 vs 9999999999\n",
            "Nuevo costo es menor, actualizando\n",
            "total = 42\n",
            "cost Izq = 34\n",
            "total vs cost[i][j]\n",
            "76 vs 50\n",
            "Costo actual es menor, sin cambios\n",
            "\n",
            "Matriz después del 3er for:\n",
            "[[34 50  0]\n",
            " [ 0  8  0]\n",
            " [ 0  0 50]]\n",
            "\n",
            "i = 1\n",
            "j = Min( i + 1 , 2 )\n",
            "Matriz actual de Costos:\n",
            "[[        34         50          0]\n",
            " [         0          8 9999999999]\n",
            " [         0          0         50]]\n",
            "\n",
            "Entrando al 3r for\n",
            "total = 58\n",
            "cost Izq = 50\n",
            "total vs cost[i][j]\n",
            "108 vs 9999999999\n",
            "Nuevo costo es menor, actualizando\n",
            "total = 58\n",
            "cost Izq = 8\n",
            "total vs cost[i][j]\n",
            "66 vs 108\n",
            "Nuevo costo es menor, actualizando\n",
            "\n",
            "Matriz después del 3er for:\n",
            "[[34 50  0]\n",
            " [ 0  8 66]\n",
            " [ 0  0 50]]\n",
            "\n",
            "Entrando al 2do for\n",
            "\n",
            "i = 0\n",
            "j = Min( i + 2 , 2 )\n",
            "Matriz actual de Costos:\n",
            "[[        34         50 9999999999]\n",
            " [         0          8         66]\n",
            " [         0          0         50]]\n",
            "\n",
            "Entrando al 3r for\n",
            "total = 92\n",
            "cost Izq = 66\n",
            "total vs cost[i][j]\n",
            "158 vs 9999999999\n",
            "Nuevo costo es menor, actualizando\n",
            "total = 92\n",
            "cost Izq = 34\n",
            "cost Izq = 50\n",
            "total vs cost[i][j]\n",
            "176 vs 158\n",
            "Costo actual es menor, sin cambios\n",
            "total = 92\n",
            "cost Izq = 50\n",
            "total vs cost[i][j]\n",
            "142 vs 158\n",
            "Nuevo costo es menor, actualizando\n",
            "\n",
            "Matriz después del 3er for:\n",
            "[[ 34  50 142]\n",
            " [  0   8  66]\n",
            " [  0   0  50]]\n",
            "\n",
            "Matriz final de costos:\n",
            "[[ 34  50 142]\n",
            " [  0   8  66]\n",
            " [  0   0  50]]\n",
            "\n",
            "Salida:\n",
            "Costo del Árbol Óptimo 142\n",
            "Subproblemas resueltos = 10\n"
          ]
        }
      ]
    },
    {
      "cell_type": "markdown",
      "source": [
        "## 2.3 Visualización del árbol óptimo\n",
        "\n",
        "//lo siento, fui incapaz, y no me escondo"
      ],
      "metadata": {
        "id": "6G7C5jVoIH5J"
      }
    },
    {
      "cell_type": "markdown",
      "source": [
        "# 3. Datos de los algoritmos"
      ],
      "metadata": {
        "id": "IB8-G-XMiYxd"
      }
    },
    {
      "cell_type": "markdown",
      "source": [
        "## 3.1 Correctitud de la implementación dinámica\n",
        "\n",
        "demostrar que resolver el problema es resolver una serie de subproblemas mas pequeños y combinar resultados\n",
        "\n",
        "definir función recurrente para el valor optimo del problema en base a lo mostrado en el punto a\n",
        "\n",
        "demostrar (por induccion o bucle invariante) que el algoritmo bottom up resuelve cada subproblema en base a la función recurrente y a los valores optimos de los subproblemas mas pequeños (que ya fueron resueltos antes)\n",
        "\n",
        "mostrar que el ultimo problema que resuelve el algoritmo es, en efecto, el problema original\n",
        "//////////////////////////////////////////\n",
        "## 3.1 Correctitud \n",
        "\n",
        "## 3.1.1 Teorema (Correctitud de Árbol binario de búsqueda óptimo dinámico)\n",
        "\n",
        "El algoritmo Árbol binario de búsqueda óptimo (dinámico) devuelve el costo esperado del árbol óptimo que tiene las claves $K = [k_1, k_2, ..., k_n]$ de probabilidades $P = [p_1, p_2, ..., p_n]$.\n",
        "\n",
        "### 3.1.2 Prueba del Teorema\n",
        "\n",
        "#### Caso base $n = 1$\n",
        "\n",
        "Caso Base **$(i = j = 1)$**: La matriz es de filas $i$ y columnas $j$ solo tiene un elemento, y como no tiene sub-árboles, el árbol óptimo es el mismo elemento.\n",
        "\n",
        "#### Hipotesis Inductiva\n",
        "\n",
        "Para un elemento $(i,j)$ de la matriz, los elementos $(i-1, j)$ y $(i, j+1)$ tiene los resultados de los mejores sub-árboles, luego el algoritmo encuentra el valor óptimo entre ambas opciones.\n",
        "\n",
        "Finalmente el elemento $(i,j)$ tendrá el coste esperado del árbol binario de búsqueda óptimo para los elementos desde $[i,...,j]$.\n",
        "\n"
      ],
      "metadata": {
        "id": "AAwp2mDHhyyv"
      }
    },
    {
      "cell_type": "markdown",
      "source": [
        "## 3.2 Tiempo de ejecución de ambos algoritmos"
      ],
      "metadata": {
        "id": "BHKpYEgGiwcB"
      }
    },
    {
      "cell_type": "markdown",
      "source": [
        "### 3.2.1 Recursivo\n",
        "La fórmula de recurrencia **T(n)** del algoritmo se obtiene analizando sus partes.\n",
        "\n",
        "Para el caso base $n \\leq 1$ el algoritmo:\n",
        "\n",
        "Pregunta si la cantidad de nodos es igual a $1$ y luego retorna $0$ sin realizar ninguna recursión.\n",
        "\n",
        "Pregunta si la cantidad de nodos es igual a $0$ y luego retorna el valor sin realizar ninguna recursión.\n",
        "\n",
        "Ambas acciones tienen un tiempo de ejecución $O(1)$, por esto se obtiene que $T(n)=O(1)$ si $n \\leq 1$.\n",
        "\n",
        "Para el resto de casos se tiene:\n",
        "\n",
        "- Un ciclo for que itera $n$ veces, por ello tiene un tiempo de ejecución de $O(n)$.\n",
        "\n",
        "- Otro ciclo for que itera $n$ veces donde:\n",
        "\n",
        "    - Se realiza una llamada recursiva donde se entrega un largo $i$ y otra donde se entrega un largo $n-i$, donde $i$ es la iteración actual del ciclo.\n",
        "\n",
        "Juntando las partes se tiene que\n",
        "\n",
        "$T(n) = \\sum\\limits_{i=1}^{n} (i + (n-i))$\n",
        "\n",
        "$\\sum\\limits_{i=1}^{n} (i + (n-i)) = n^2$\n",
        "\n",
        "Juntando esto con el resto se tiene que:\n",
        "\n",
        "$T(n) = n + n^2$\n",
        "\n",
        "$T(n) = n(n+1)$\n",
        "\n",
        "Eliminando las constantes se tiene que:\n",
        "\n",
        "$T(n) = n^2$\n",
        "\n",
        "Por lo cual la complejidad temporal del algoritmo es $O(n^2)$."
      ],
      "metadata": {
        "id": "sx-EB5whcXrK"
      }
    },
    {
      "cell_type": "markdown",
      "source": [
        "### 3.2.2 Bottom-up (dinámico)\n",
        "La fórmula de recurrencia **T(n)** del algoritmo se obtiene analizando sus partes.\n",
        "\n",
        "Para el caso base $n \\leq 1$ las iteraciones del algoritmo serán desde $1$ hasta $1$, por ello no se realizará ninguna iteración y se retornará el valor único, por esto se obtiene que $T(n)=O(1)$ si $n \\leq 1$.\n",
        "\n",
        "Para el resto de casos se tiene:\n",
        "\n",
        "- Un ciclo for que itera $n$ veces, por ello tiene un tiempo de ejecución de $O(n)$.\n",
        "\n",
        "- Otro ciclo for que itera $n$ veces donde:\n",
        "\n",
        "    - Se realiza otra iteración $i$ veces donde $i$ es el número de iteración actual del ciclo superior.\n",
        "        - En este ciclo se realiza otro ciclo que itera $2$ veces:\n",
        "            - Dentro hay otro ciclo que itera $2$ veces. Esto es $O(2)$.\n",
        "\n",
        "Juntando las partes se tiene que:\n",
        "\n",
        "$T(n) = \\sum\\limits_{i=1}^{n} i(2(2))$\n",
        "\n",
        "$\\sum\\limits_{i=1}^{n} i(2(2)) = 2n(n+1)$\n",
        "\n",
        "Juntando esto con el resto se tiene que:\n",
        "\n",
        "$T(n) = n + 2n(n+1)$\n",
        "\n",
        "$T(n) = n(2n+3)$\n",
        "\n",
        "Eliminando las constantes se tiene que:\n",
        "\n",
        "$T(n) = n^2$\n",
        "\n",
        "Por lo cual la complejidad temporal del algoritmo es $O(n^2)$."
      ],
      "metadata": {
        "id": "1wGf9a6vi1ZJ"
      }
    },
    {
      "cell_type": "markdown",
      "source": [
        "## 3.3 Complejidad espacial del algoritmo dinámico\n",
        "\n",
        "El algoritmo crea una matriz de dimensiones $(n*n)$ que almacena los costos óptimos esperados de cada sub-árbol, por ello la complejidad espacial del algoritmo es de $O(n^2)$."
      ],
      "metadata": {
        "id": "_waJ9DeDpdZn"
      }
    },
    {
      "cell_type": "markdown",
      "source": [
        "# 4. Experimentos"
      ],
      "metadata": {
        "id": "5nJD0Ppli9nG"
      }
    },
    {
      "cell_type": "code",
      "source": [
        "# Código para generar árboles aleatorios\n",
        "import random\n",
        "import numpy as np\n",
        "def generarArbolProbs(n):\n",
        "    keys = sorted(random.sample(range(1, 100), n))\n",
        "    arr = np.random.random(n*2+1)\n",
        "    arr /= arr.sum()\n",
        "    \n",
        "    p = list(arr[:n]) # Probabilidad de las claves\n",
        "    q = arr[n:] # Probabilidad de las claves ficticias\n",
        "    return keys, p, q"
      ],
      "metadata": {
        "id": "J3wv213Sgs7C"
      },
      "execution_count": 14,
      "outputs": []
    },
    {
      "cell_type": "markdown",
      "source": [
        "## 4.1 Tiempo de ejecución experimental\n",
        "\n",
        "El siguiente gráfico muestra una comparación entre el comportamiento del tiempo de ejecución del algoritmo **Árbol binario de búsqueda óptimo** en su forma *recursiva* y *dinámica* en relación a la cantidad de claves $n \\in [1,16]$."
      ],
      "metadata": {
        "id": "ODPelZ03guFc"
      }
    },
    {
      "cell_type": "code",
      "source": [
        "import matplotlib.pyplot as plt\n",
        "import datetime\n",
        "import random\n",
        "from timeit import repeat\n",
        "\n",
        "x=[];\n",
        "yR=[];\n",
        "yD=[];\n",
        "\n",
        "for n in range(1,10):\n",
        "    expKeys, expProb, expFails = generarArbolProbs(n)\n",
        "    x.append(n)\n",
        "    t = repeat(setup=\"from __main__ import ArbolOptimoRecursivo\", stmt=f\"ArbolOptimoRecursivo({expKeys}, {expProb}, 0, {len(expProb)-1})\", repeat=1, number=10)\n",
        "    yR.append(t)\n",
        "    t = repeat(setup=\"from __main__ import ArbolOptimoDinamico\", stmt=f\"ArbolOptimoDinamico({expKeys}, {expProb})\", repeat=1, number=10)\n",
        "    yD.append(t)\n",
        "\n",
        "plt.plot(x,yR)\n",
        "plt.plot(x,yD)\n",
        "plt.legend([\"Recursivo\", \"Dinámico\"])\n",
        "\n",
        "plt.xlabel('n')\n",
        "plt.ylabel('Tiempo en milisegundos')\n",
        "plt.show()"
      ],
      "metadata": {
        "colab": {
          "base_uri": "https://localhost:8080/",
          "height": 279
        },
        "id": "kHtRmXtrguZA",
        "outputId": "eda9406a-fd9b-43da-b33a-c86f972f2f11"
      },
      "execution_count": 16,
      "outputs": [
        {
          "output_type": "display_data",
          "data": {
            "text/plain": [
              "<Figure size 432x288 with 1 Axes>"
            ],
            "image/png": "[encoded data removed]"
          },
          "metadata": {
            "needs_background": "light"
          }
        }
      ]
    },
    {
      "cell_type": "markdown",
      "source": [
        "### Análisis del gráfico\n",
        "\n",
        "Del gráfico se puede ver que la implementación dinámica del algoritmo **Árbol binario de búsqueda óptimo** es mucho más rápida en comparacion a la implementación recursiva.\n",
        "\n",
        "Cabe notar que a diferencia de experimentos anteriores con otros algoritmos, aquí no existen los puntos altos en la gráfica o \"ruido\" que es causado normalmente debido al comportamiento impredecible de los procesadores, esto es posiblemente por lo corto que es el problema y el rango en el que se encuentra $n$, muy probablemente para rangos de $n$ mayores se empiezen a ver esos eventos."
      ],
      "metadata": {
        "id": "eKISI4eKg1w6"
      }
    },
    {
      "cell_type": "markdown",
      "source": [
        "## 4.2. Analisis Elemento con mayor probabilidad como raiz\n",
        "\n",
        "El siguiente gráfico muestra una comparación entre los tiempos de ejecución de los algoritmos si seleccionamos al elemento con mayor probabilidad de ser buscado como raiz del árbol."
      ],
      "metadata": {
        "id": "Ss2IzGKsg3PM"
      }
    },
    {
      "cell_type": "code",
      "source": [
        "import numpy as np\n",
        "# Codigo Recursivo\n",
        "def ArbolOptimoRecursivoExperimento(prob, i, j):\n",
        "    if j < i:\n",
        "        return 0\n",
        "    if j == i:\n",
        "        return prob[i]\n",
        "    fsum = 0\n",
        "    for k in range(i, j + 1):\n",
        "        fsum += prob[k]\n",
        "    Min = 99999999\n",
        "    for r in range(i, j + 1):\n",
        "        costIzq = ArbolOptimoRecursivoExperimento(prob, i, r - 1)\n",
        "        costDer = ArbolOptimoRecursivoExperimento(prob, r + 1, j)\n",
        "        Min = min(costIzq + costDer, Min)\n",
        "    return Min + fsum\n",
        "\n",
        "# Codigo Dinamico\n",
        "def ArbolOptimoDinamicoExperimento(prob):\n",
        "    n = len(prob)\n",
        "    cost = [[0] * n for i in range(n)]\n",
        "    for i in range(n):\n",
        "        cost[i][i] = prob[i]\n",
        "    for size in range(1, n + 1):\n",
        "        for i in range(n - size + 1):\n",
        "            j = min(i + size - 1, n - 1)\n",
        "            cost[i][j] = 9999999999\n",
        "            for r in range(i, j + 1):\n",
        "                total = 0\n",
        "                for k in range(i, j + 1):\n",
        "                    total += prob[k]\n",
        "                if r != i: total += cost[i][r - 1]\n",
        "                if r != j: total += cost[r + 1][j]\n",
        "                cost[i][j] = min(total, cost[i][j])\n",
        "    return cost[0][n - 1]\n",
        "\n",
        "k, p, nul = generarArbolProbs(5)\n",
        "\n",
        "print(ArbolOptimoRecursivoExperimento(p, 0, 4))\n",
        "print(ArbolOptimoDinamicoExperimento(p))"
      ],
      "metadata": {
        "colab": {
          "base_uri": "https://localhost:8080/"
        },
        "id": "hEJk0JRwg9As",
        "outputId": "8e19e6fa-2a84-4cef-abd9-a382990f63f2"
      },
      "execution_count": 17,
      "outputs": [
        {
          "output_type": "stream",
          "name": "stdout",
          "text": [
            "0.9649813706050208\n",
            "0.9649813706050208\n"
          ]
        }
      ]
    }
  ]
}