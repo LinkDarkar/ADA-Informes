{
  "nbformat": 4,
  "nbformat_minor": 0,
  "metadata": {
    "colab": {
      "provenance": [],
      "collapsed_sections": []
    },
    "kernelspec": {
      "name": "python3",
      "display_name": "Python 3"
    },
    "language_info": {
      "name": "python"
    }
  },
  "cells": [
    {
      "cell_type": "markdown",
      "source": [
        "# 1. Problema del Corte de Varillas\n",
        "Tenemos una varilla que podemos cortar para obtener varillas más pequeñas, si cada varilla resultante del corte se vende a un valor específico que depende de su largo, nuestro objetivo entonces, es obtener el o los cortes de nos den el mayor valor.\n",
        "\n",
        "Por lo tanto tendríamos como:\n",
        "\n",
        "**Entrada**: arreglo de n elementos $[a_1,a_2,...,a_n]$ con los precios para los distintos largos, y el largo de la varilla.\n",
        "\n",
        "**Salida**: El máximo valor obtenido, junto con el número de cortes hechos.\n",
        "\n",
        "Ejemplo del problema:\n",
        "\n",
        "![image.png](data:image/png;base64,iVBORw0KGgoAAAANSUhEUgAAAr8AAADYCAYAAADid4slAAAgAElEQVR4Xu2dB3hUxRqGP3rvKJZLV7qgUgRCB0G6lNClN6UTkSAgVQNKFyVAQIp0QxUQCJ1QBQSlC4qgEIRISYClyJ3ZsJiy5ezunK3feR7vfTR75sy888/MN//8M5PsiXjAhwRIgARIgARIgARIgAT8gEAyil8/qGUWkQRIgARIgARIgARIwEiA4peGQAIkQAIkQAIkQAIk4DcEKH79pqpZUBIgARIgARIgARIgAYpf2gAJkAAJkAAJkAAJkIDfEKD49ZuqZkFJgARIgARIgARIgAQofmkDJEACJEACJEACJEACfkOA4tdvqpoFJQESIAESIAESIAESoPilDZAACZAACZAACZAACfgNAYpfv6lqFpQESIAESIAESIAESIDilzZAAiRAAiRAAiRAAiTgNwQofv2mqllQEiABEiABEiABEiABil/aAAmQAAmQAAmQAAmQgN8QoPj1m6pmQUmABEiABEiABEiABCh+aQMkQAIkQAIkQAIkQAJ+Q4Di12+qmgUlARIgARIgARIgARKg+KUNkAAJkAAJkAAJkAAJ+A0Bil+/qWoWlARIgARIgARIgARIgOKXNkACJEACJEACJEACJOA3BCh+/aaqWVASIAESIAESIAESIAGKX9oACZAACZAACZAACZCA3xCg+PWbqmZBSYAESIAESIAESIAEKH7dbgMGRF+6gluPREZSZsZLubMjjdvzxAy4n0AMon6LRYb8uZDR/ZnRMQeynNdxV34hfU7kz+XbpdURpJckHa++RY7v/rIFJwt0Q2BxL8m+vdmMjcJv1+49fSsWP0ecRMFugfDV4tqLx+d+b4jGpb9uwzicZ3kRubP7/mhuiL6Ea3je68pK8evW1vcrlnVviy/QD/P7PYdVgwZi95sTMG9sHbzo1nzx4+4jEIPzW2bjs5GzsfNOI4QeH4da7suMvl++shoDG4fg4aC5GFjsBCa9Nw7RH8zB3K5vcAKoL3m3pW7YPAgVun+H26YcvNAJ8/d/ggC35UjPDxuwaVA59FrxrLTI1flbRH7im6XVk6Q3pG04Oh2t39uIgBlfoSnC0bfHOpSYshQhtV/whuzbnUdD9DGs/WwIPl17CoU/2oFlXfPanYY7X6D4dSP9G8s6o/LgP9F97Sb0LykyEjkGAW1Xoei4ZQhr9aobc8ZPu42A8BxExV7EklZNMf1qS58WvxHBpdBzR3MhfoYbxc/xKXXQdO4bPl1mt9mVR3w4Gss6V8KBZicxqb5HZEjfTEQvQ9dK+9Hk5GT4Q3H1henpqV/EnMBqCEk/Fgfmt0UOkd01vfMjKGooIlZ0RT5Pz74D+YuJigL2j8br/Tag9DCKXwcQ+u8rxsbxfRkM2bECXYytYzX65BuAreVHYMPSjj7ZYPy3tu0p+XFMqd3YP8Tvyv+h97KV6P8G4rxkJ7ph7YbeKGYPLv7WOwgcDEG1dquRo0YAylRohhbNA1Awg3dk3ZFcHgypjI6rnkO1SmXwVtOWaFapoI+HMDlCyVfeeSp+z9fDxPVfofGL5zCzcW1MzT8dJ6f48NRnTS+8QvHrK0bsunLEid9SGLRlNXoYHb1x4ndj9nYIOzIG1VyXFX7Jowj4h/iFCHvoU1/YO15Dm3o5sePAyxi6YAzqMObHo6xRVWZuREzDZxuO4OzmfTgV8wCpn6+EoJlh6PKGL8ZFRiNi6lhsPHIaW/edQsyD1Hi+8iB8FdYVPllcVUbixekYjk5G85bTcP6lt/He61HYeKMhpvp6fVP8erHFujHr58IC0XjsWbw2bKGIlxFxD7HL0b34YGwr1BcrNw+AjITg448E/ET8iqo1nJ2BNrU/xzFkQ4nuYzEtqB7y+KIW8kcztljmGJyYH4Run27GzVeCsFR4+n26r4s9gfkDOmP85psoGLQC6/r4dGn92tKjfwjCOz1XIjp1XtQcOgETO5TxbW8/xa9f27sThb+KTcM6Y/DKGyhYtigeRJ3Cn6evAa1m48g4n93m5AQvf3nVT8SvccPbx7g7aAnejuyH4auv4MVW0/DtOG749H1LN2DXiGrovCQfhm1ego75fLzEhl0YWbUDludjSJuv1rRxw1vbdQj4KhgpZgZh+n7grWE+voGX4tdXzdm15TJu+JlyF12W78aQcq79Nr/mSQT8Q/waN7ztaYlFez7GW4gRYqguOs8H7d+TTFHPvBgHzmgMixTi92U9P+QZaRvD3K6PwA6xn+N/npEl5kIZgacxv5lC8OPcVshquIj53WtjzNEAjF07F618dXJH8avMgvw2IVO80JWmsxEpvL5c+fVbUxAF9w/xaxQDZ+OF+Gz5CCW7ReDdeUcwupo/179/lN042Y8M9Nnd8AlrMa5N72vhfbvi/cManS1lXP0uKDQZW6a/azzt4fzMd1EnJJ1vT+4ofp01HH9+X1xysW8e+vSaiuvNQxH+cRXfjhHy56rWXPajmFizKWb83RxfHfoCdXx0JnRj/QDUGXAUb0+XZ2Fmw9EJjdD2QCDWiKOBeNCfZmPxkh/uwKc1P8bOHDXRbcQA1Lz9Dbp+eAYt5s2CT57quONT1B6yHdlrdsfwgbVwa24nBJ9pjTmzW9G2vcRi7c3m8S/ro9U3mRE0Z57YxPkPwrvXQUj2iT7tzDKE90DxoM0oFbwZ4T29q9fmOb/2WrjK3x9bhNErzuJJzjJ4t31tlPKD22BU4vPJtG6fw8EDp/HHbYOxeGky50GRt8rh1cw+WVrEXIjExrXb8Uv0Q2Qr1xTt3y4FNgNfrGsDTu9Yhh+2/IRLyI1S1Wujaa3ivjvRN5zBjmUbsPWnS0Ce11H17aaoVZy3F/qiZf9XJuHIOrYb3/2wG3/eSoMC9Xz7eLu/jm/DsQvRiH0sCKTIgOwFSqFGyZe8poopfr2mqphREiABEiABEiABEiABZwlQ/DpLkO+TAAmQAAmQAAmQAAl4DQGKX6+pKmaUBEiABEiABEiABEjAWQIUv84S5PskQAIkQAIkQAIkQAJeQ4Di12uqihklARIgARIgARIgARJwlgDFr7ME+T4JkAAJkAAJkAAJkIDXEPA58Xv79m1MmTwZ27duw6U//jBWRLJkyZRViEwrZapUePzoEf79918l6T558gSpUqUWGYUxXfnvKh6ZTpo0afD48WPjP6qe1CLNQoULo2atWujdp7eqZH02HZNNbtr4A65FRRntJ61gqOKRlpI7dx6RZkq76+PA/v2YPHESDv/44zObU9VWZL5Si3LK/3/08JH4XzU2LZmlSp0a/yq26QwZMyJ/gQIYNHgwKlasoKJqvDqNUydPYtbMWVi/bt2zfk6ZbYh+KbWoQz1sQ9ZjxYAAfB06QzN/U/vcuH4D/r4mrpdXOGbIMqZInhwpUqQw9sGqxgyZx4yZMyFfvvwI+Xw8ioj+2N8f2Z+NHjESZ8+K40OfjqFKbVb02U/EmP/okRxL1fRnRj2RUuiJx+r0hLSDTJkzI2++fHbbhonhuXPnkFzYberUaYTtJldiWpJY+vTpUer11zFjZqiSNJ1JxOfE74cDBkJWXOv32uOBwYCfjx3DDxvW49Px45HzueecYfXs3YcPHuLU6TOIunoFb9d+W0maMpHbt+/glxMnkStnDhR89RUl6RoEg8t//oWLv/2OGjWrK0lTJnL48GHMCwtDpy5dKICtUJUDa8vmgaggBuRCRYri/r17+H7tGjx48ABjPvtMWX3s2rXLWB8DgoLQ7r12NtOV4qZb566oVacOKletCtnpbdqwAdVqVEedunVtvq/1Bzeio3H61BkULJAfL7z4gtbXrP7u7t27uPjHJVwWk1uV7W/n9h34dsF8fD5hAuo3qK8kr96YiNE2unRF7XfeQUDlKjh+/Bg2C2FY4JWCaNu+vbIiSds4e/ZXPJ8ju7L+7qzol1eGh+P+/XvYHLHFZl5l++zetSsyZswk2sI7xjFj5/ZtOPHLL5g0bZrN97X+4K5o96dF3m798w+qizam6vl+7VqsWbUK4WtW+7UAXvnddwidEYpGTZqiaLFixv5szcpwvNehA94sU0YJ7kfCMXVL2Msp0Z+VKlkCmTJlUpKuXnpC2sbyJUuwYPFiTRP6OWFzsEz8vlW7dsibNx/2Re4xvh88bBiKlyihpKyXLl/GKlFXPx05isM/HVGSpqOJ+JT4lZW3VFR08LDhSJ8hwzMmclA/9tNRTBAeYZXPtm07jLOiqlWrKEs2Ovof7N23H5UCKiBr1qzK0j3042FcOH8eLVu2UJbmzZs30bJpU82NS9mHvSihHl27IXWatGiTSDSEjB6FKtWqoUmzZspKc/H339Hngw8we+5cq52dSZDXb9QYpcuWffb9u7GxGCg8+SPHjkXJUqWU5StKeNMi90SiadMmytKUCW3fsUuIlXuoIwS8qmfP7j34POQzvxUT0jZaBbZAjbffNgpf0yNtY1jwYHzQp4/Rs6rqkbZx4MBBNGrYQFWSxnR6inYnJ3JDhw21mq5cJTzxy0l07t49we9mz/gaUpSMHDtGWb4eCvG0det25MieFWXjtTtnP7BBjG/Lxbi3e2+ks0l55fuXhaCSNivrsGix4s/KcP3vvzFs8Ef4QtRxwVfUOJNk4r8Iezl16iQCA5sr4yVtY8eOncbVMpV6QtrGPKGLbAlNkzOk94ABRo+x6Tl18gSmCmfAjNmzkesFNc4LmfbQIUNguH8fq8SkzV2Pz4hfYwNo3gKJK88EdurECahWvTreVjhQ3hOz+W3bd6JkiWLInSePsjqUjev06VNo3lydMNKrcUmxME10LrYalzI4XpSQ9EbM+HpGksmYLIJJTEycMkVpp6Kls5OrIwYxsCcW5DJfcZ3dRKxct1YpaT0mX9KmIyK2okSxokrb3xzR0R8+dAibNHgOlULygMRGjxollv6vm7UNObkKGT0aC5YsFp5SdbeVHf3pGM7/+qvS/k5OzLt37oxFy5Za9Ihu2bwZIz8ZgdGfhSRwlpiqYbgQ+x1EGirFvsm50aC+utUVmd8Bffvhf/972a5wDw8wNyVZaNWiBYoVL4G330nKVLbjxQsXYKHwYKp89Jh4375zB7t27VHu+JJCM1WKlFi4+FuLCOqJVY96DRslcIaYfiydh8eF81BOIlQ+Hdq2RU/hrNGyUqnyu6a0fEb8yhn8+V8vmO20ZWFNs8CVIoZN5SOF6oUL59GoUUNlycYN6ttQoXw5pd7fP0X4w759+5QOMrLQLYT319ogowyMlyUkl45LvfGm2Q5FFkV2KjJ05kMRZ6rysVYf0rNXr/Y7GCVCLuKvjsT/vhQ49cSyv8qJorTpzZu2oL7iQV+P9uevNm20DTEIDh46zGKImPSIlnvrLfW2sTkC9eu9o7IZQE5i5L6PhYvMD/pyVSZLtmxoIsKSzD27d+7Az0KYq/T+yu/s3h2Ju3djlK5YSLHfvk0bnBBOE396pMeya6fOmDDtS4vFlqtZqp0McsVi7959aPJuY6W45UTwWtRVl9qGZNivT18xJoS4lOHypctw8MB+t3l/fUb8yk67eatWCZY9EtekXo1Aj2U7PRqBUYDoNchcFIOMlZml0h7CCxKTKxENhCdiouiULYlMU5iB6gnZZyJsIWfOnBgvNsIkfqS365u536CP8P5aeuSgf+HX8xgkPF8qH2l72bJlUbrka1x9EeFHqkW1ZFhAbICztWyuko+705K2Me+beejdf4DFrEhP2oG9e5ULwv0HDuHWzWiXDfpS6FepWAljxo2zKPRl++zRuRPCReykSk+3nk6I0cJu/SleXTq9Llz4Da3bvWfRZhfNn4/nnsuJdiL+V+Xzg5jMFy9aWOmqkxTVu0Q4V2ALdSEVssxyZaB2ndpm9+dIhlevRKGxlRA8yTBf/nxKw/RMYZP7RZ+SU9SPqx+fEL9aZi4SLBsB4OpBxtUG7Snfmyfibo8c/clqpyzzKidkquMorXmBbHmjZZ70EuW/X7yIHw/9qHzlQYrqokUKKR2E/DGcx5YnNL5tqI4BlIJwb+Re5YO+XAUxtwlUi9CX5fU6T7efOSG0OL306s/0WHXSK5TLmpe1coWK+MjKao9sBzIcLiw0VHn4iAzJqFSpkls2zfuE+JWxlRs2bESXHj2tah9ZgevEztgJIs5S5aNXI9DDS3tOePRO/PwL3m2idrlGDjJffv21pl2lKtl7alpaRKbMu9z5miF9OuVeiUb16mHn7t1JZtSVREdnbVnbxHPcmNHo1bev0o0i0ku7RcToqt7cpEf7kxzq1KgBd3kl3GHXWgZBmS8ZFtOpaxelmyL1WpWaNnkK0qZLm2QVZJoYA86cPSfaXUerqPXydMvVihdyPS9iVYspq2oZkz1oYJDf7L+Qq2vyJJ0JU22fytFTePAXiLhflR586aWVk+RmzZoqq0OZkAyLSZs2tdIVMksOEXsYvic2y6teBZF7VLZt2eKW0AefEL/SyyY31NjqyLxpBigbwYaNm1CxwltK4371arA9u3VDf7FT1J+W3Kz1eHL3cW0hQOPvPjb3exli8Js4hUN13K/cTPD5xIlJJiOviHNBFy5bbrOzni3OSS1XrpxXxHbqOaHzp1j210uUFGE60yyG6ZiMRo8lUJn2xh82o+47tW3apj0/kB6vkyd+SRL3Kzd9Pv/ii+KYv2o2xe9+cYrCKBFOoPI5fPgIrl//22VhHirz7ilpaV3xlfmVmxc/El5Glac+yA1qW8V9AqrjfvWczP/6+28Jqk8eCTcuZBw++tj6qSjyJT3CRil+nWxNWjsyvcSvXoOv3PT2kjgbVaV3QO423rlzJ5o0eddJ6glf98cYSWsAtXrR4jxLkcbjxVQ+8qin/gMTTkbkYNFfxH6N/NT2+cJ6CRy9JnR6xMn504TOHg/Qqu9WiNWK9MpXK6T4Vb3J19Lg2rVzF7z+ZmmLm1FNbVFulA4RqyCqTwvQS+BYWvFR2bd4SlpSuIWITVpyJcvW402rFVJPHP/pJzRTeNqT5GPONrSumsv35WpgR3Guv8pjMONWKwaK1YqjtqpQ+d99wvOrdYlZ0vOm5Y8dO3cZl8RVngmp1/IixW/CtqnViyYb/9xZM43nKKp8zNWHPbN8KXDkbTzykHiVjx7xuXrtvB425GMEVApwSzyaSuZa0rLHi6bXaoUek/3jx49j0vjPsXtfwjNwtU5Ovc1h4k8n79gj3PSazOuxWiHj3/fs2aP0TH7ZB5hbDdS6N0W+r8dqoDtPKfEJ8VtfnPTwnpjJxz+c2VKHr4frXi9v6t69+/Hw4QOlh17LuMsIcdB6wwb1tIyJmn8jjxX6R9xeNMOOa0U1J+5lP4zbSR6AGXPm2sy5Xp6lqWIHb7p06RLEOmo56cGUYW8SOHL5cbuIoWzcWN1xg5KDP4lfe7xoep0GokesoyXPklbxK+1Axjpu2rbNZlu25weuFDj25MubfiuF2+HDRy0ebxq/LPqtVmwSqxVqQxP1Og3E3GqgjH2XN8BaOu4vPkM9xK9MX+6tSByO4Qo79AnxqzXsQQLVw/Orl7Hq4fmlUHBFswJeL/Ga1WPOTLnQaxOmOeEmvXt9e/fBaBHjZeuRZxDHxtxBz169bP3Urr9v/GGT8ksp5ORz+/btyjeeDBQhIoFC+LjrEHa7wDr5Y3smbNI2Yu7cxvu9ezv51YSv63F0lNyQtEhccpD4qmN5SkB7DQ4TvSan8uSTA/sPKPfu+ZPn157JvF7CTQ/Pr7SNoyImvIniGzHN2Yb0nq8XV5d37fm+zbYsLwqr37Ch0ktfGPZgE7v1H8hbif79V8wgxAYja4+3dWR6DAZ6ean9SShoMVetg6teXrSB/YRwEzcfxRdu9ggcDhbmlwm11L03/sYe29DTi6b6tj7jhrdfxIa3RGeQy1vBate1vSFVDs5zZs5EaJjasCQ9Nry504vmDpu3Z7Vimtj8W09coa3ytj69VlH1ivk1J37tmUDosWlQhiVNFGFJexKFJbnCnnzC8ytd93/9ddXqIc0Sprd1ZHrMKvXyUvvT5iAtDVPraQ96edEseYC0nvagxyxfr8GCXjQtFmn7N1rj1L1pYmQMx4qOxoyZoQkAaHWYGFdmVq/GBMVXu+oR0uZOL5pt61L/C3smbHqFO+4WKwuqw61cOTGyZzUwSJxJL4+JzfXCC8oq09LKjLIPWEnIJ8SvnL3MFfGVfcUZh9YevXbW69GRyfCEnTt3K4/NPX36DI4dO8blNp1bl9bBVY+NGHITQffOnc1eOV1ZxCLLY21yPvecVQJ6DBZ6hdzI9nfnzi0eG+WkTWtdrZCnHwS2bKnUi6aXbVjaiKs11lGvyakeGz/d6UVz0vQcel2r+JWbFqXXUrVw08uRJMMdkwkiVatWcYiLuZcs2YY9DOWYoPo2UkuTU2UF93Xxq7UCpTeraNGiSo/okacnbBE3TFWsWF7pebx6xf3IHdVZsmRSeoKEv3W6Whqm1gmZHiLT2tmJWkS5XiskcuJ1+tRppRes6HUjkjvPn9RiX3r8RtpGTEys1c0vMnRs2OCPlF8YIG3jFxGe0Fzx8U6WVkDk0W71xfXjoTY2pcrjnZp7idA3XuiRVlzo8UXSa831sBdPSFPeSliwUCGr5zVLp5ceZzXr4fSSq2PbxfXGqs/3l7bxQGyeN7chXTpEOolz+q2dSa/XZS9yxbhDx45u2VfhE55f2QhtNQLTkTWqr+XU6y5ueQNQihTJlc7+9PKu+GOna6vjj5uQVcKYceMselllh7Jm5Url8YQy/rpIsaJJbrWSeZZxcgP79ceEaV9aLIK8de7Jv4+9YrObXsec+WMMu7RZORBaE4R6eUL1mJTLCcyyRYstxhPaWgXxFaFvq6/y5r/LDVsrVnxnddWXTq+4/QtDhg41ewmVPDVjz55Iqzfk6hEGJ50sfT74wOxNpK6wSZ8Rv7IRzJ83H8HDPzHLzZtmf1KkymN/AhR7k/XwvFlbYneFAXvyNwYFfYgMGTNZ3IgpRWZ6cY6zyrN0Tecmhq9ZjSKFC5vFY+2YJzlJHPb0NiSVh5lLkbp/3wHl8XHS+yJvymrUSN0xZyab3iSu3cz5XE5PNjHleZOCsJeYHFk6NtKXPKHS0/33tesWj8qSG/v+ffxY6akWcqVCHsuXLVsWpatvtoS+ckPxkARtrfrS6QXYWpnVwnB4cDBmiE2fKq+HlsdxPnwgvNGJ4vFdZVo+I35lBTYQy1gt2rRNcmuPKebn/T59lMapydCEYz8dF97ZyspCHmTneOjgj7gWFaV0edgoqHftQf58eZXeGCdj6gz3Dfg20W5qVxmwJ39HLq1KmxwzbnwS76/cSLNk4UJjHJrKDiVk7KdIlTqV1fOW5URxwfwFGDxseBJ8UpBf+fOy0hvnpE3vFEt5qVKlVLqSIQX1gQMHUaVyJWXtTwIZIDznL//vZb88s1qG64wQDoSJZlYGNm3cgL27dyu9kEXaRmTkXsSK/knl1ehyI83s0FCsXrvG4gTGOOgHVEKwaAeJxb70Sk0TYXLy5kWVV+JKB8SJEyeUHssnJ2v9xJGEPYUXzR+O5UvcaclJzKmTp8x6fxcvmG8MBVF5ZKMMTZBxuTlzZFc6gTl//gKO//yz0uuSpW0EDxqEatWqY+hwy1cY9+zWHTdv3UI/4bBJ/Eivb+7cuZUylIJ87MiR+PLrr0XIaAW3DOM+I34lPXNiQwpfuTtZdeVJMSk77bzCKFReP6xH52jyNqRJk1qp+JDHCH23fDk2bdnsdx4yra1VCs0ZX89IcLautMmQMWPQoXMnpZOxuWFzsFOcd2ttwDflW4YJpUydWsS/d3xWFL0Eudy9/NtvvymN59RrAJIMDx08gMVLlvitTZsbCI1icNJEjBR2q1IMymt+z509o/RM0zgx2FuIwfdtikEZBtRdtIX4oR6yfU4VZa1SpYqIf26utanb/J08ZnLfvv0ICKigdLImz/TOmi2rX07WTNDlRVdVa9ZMEPsrJ2uRu3YLB8NkZQ4Gk3Pqn+gbSidrejqnUqcSzhAb3lU5EWwd2AJ1GzZK4DyUDI8dOWKcBKpy0mgV5DYblJM/8CnxK1lIz8X73Xvgnfr18evZc7h69QrSp0uP10qVFJ6nVE7iins9e86cuHbtb6O3IkuWzErSTJ8xIx4/eozb4vD45GKvp/SSqXiyZc+Bf8RgcFMc95M1axYVSeKxOFT5gViu+Ek0itGiUaj02CjJoIclIj0TkcITlS9/fty8eUscufcbXhWbNAIqVVKSU4PhgVjaOmasD60zaWNn16IlMmfJIuJ7nxjbyY3r10WscDHkypVLSb4yZcqMu/fv4ZYocxohtFXZdJas2QTHm7gtPBXK2l/6DPjj0h+4/MclhM2bazFkRAkYL0hEbgYzGAzInScPfrtwQRfbuC/Sv3MnBimSq+vvpDg5IbxnAZUqa974NUUsv34jNr6VKVsWf17+09gWcuTIITYAFVNWU1myZceNGzcQI9qdsn748b/49ddzSJ4sGRb58WRNVpLsz6TNvv7Gm7hy5S/IeG3Zn71ZujQyZVYzRssQNjnp/ufmP8iSKZPn28a5c0gm2pbWibzReSjOvg6oXBlPnjzBReGwiBY2+26zZqKfVaMdzok8Hdi3D6+VLGlTkCsDbCEhnxO/spzy7LqV34XjOxEIn1osAWcQwlLFc/durFjif4Bs2bOJSzX+RfLkyZ1OVqYTGxODNGnTIWXKFEgmOjL5j7PPw4cPERsbAykUnijKqylPstyly5TFoI8G+a13zN76kZOyXTt34uiRo3jppZdEvajpTGQ+Yu7EIrNIb5BY3rI3RlV6pmfPmm0Ms5Ez+xQpnZ90Sdu7d/cu0orrlVOK9FTZ9H0x8EhBljlLVtE5q2l/pnqU+Wz07rto1aqV3QzttQVv+b0etmHq71KJyVBq8Y8q25BM5YCdO29e9Hz/fbuXUuWYMX/ePGzauMkYh59GLJWreOSYIUzVOAb9KzaRqhgzTPnKIaV2Y3YAACAASURBVJwwVatVo83Gqyi5eWuOWL2R3nspelXwNvVnUvzKR25EV/FI23j48JEQllmV20aWrFlRs1Yth2xDMpSbCDNmSI8XX3zJGEan6pGnyTQQt8R5gsPMJ8WvqopiOiRAAiRAAiRAAiRAAr5FgOLXt+qTpSEBEiABEiABEiABErBCgOKX5kECJEACJEACJEACJOA3BCh+/aaqWVASIAESIAESIAESIAGKX9oACZAACZAACZAACZCA3xCg+PWbqmZBSYAESIAESIAESIAEKH5pAyRAAiRAAiRAAiRAAn5DgOLXb6qaBSUBEiABEiABEiABEqD4pQ2QAAmQAAmQAAmQAAn4DQGKX7+pahaUBEiABEiABEiABEiA4pc2QAIkQAIkQAIkQAIk4DcEKH79pqpZUBIgARIgARIgARIgAYpf2gAJkAAJkAAJkAAJkIDfEKD49ZuqZkFJgARIgARIgARIgAQofmkDJEACJEACJEACJEACfkOA4tdvqpoFJQESIAESIAESIAESoPilDZAACZAACZAACZAACfgNAYpfv6lqFpQESIAESIAESIAESIDilzZAAiRAAiRAAiRAAiTgNwQoft1U1YboKMRmyIXsacxlIAZRUUCuXBndlDt+lgQSE/jPJg3Rl3AzTW7kypDwNzFxRgtaLa3HMwhY70et98GeUQLmwr8IWLRJQzQuXQOefx64GZsBucwLB/+C5WRpKX6dBGj/6wacDg9GyOHaGDOiLvKYE7+Gi9gwYigiyg5HSLPCMKuP7f8w3yABxwhc2YUpHy1Cmk4t8PDbjxG67RFaLDiMkVXiJ2fAHxtGYOjmshg6vhmK0GgdY8231BAw2WzwRLxf3Px0LObQTATNikHb0UGo8qKazzIVEnCMgCVdcAmRs8dh2BcbEBs4F7s/zoR5/Wch5r3RCKrygmOf4ltGAhS/LjaEK2t6odnKclg6q4N54fssP+cwJ7Ad9jVfhLCWr7g4l/wcCTwlYDiKKU2CcDN4rRC7QkQI+32l3360SyJ+435/LiwQHfY2x8K5LVGQEEnAHQQS26yVPBgiglF9UhZ88e0QBGR3R2b5TRIArOuC1eiTbwAOdJiPg6OEx8EQgSGVJyPL5IUIptE6bD4Uvw6jc+DFc2FoWX8p3ly0HoPLanCNHQxBta6/o8+mmWhGz4QDwPmKcwQMiAiugJ7Xg/FTWIu4cAYb4hc4iHGVuuH3AZsQ2oyeCef48237CZixWauJRGNZ5wqYV2wpVn/4BlfZ7AfON5wlYFMXJBK/4ns3lnVG5TnFsWhdEN7QICWczaIvvk/x68JaPRhSGW3W1MDcnaNQxWiwBhwN64peK1/EgA/yYcMny5FtRBgmNTZ5esUMr2Q3HG6zAuuCy7BjdmFd8VOCQPQydC0fjPtD9+HbDk+F7FPxW75Gfvyy5zBiHqRDweZjMPXT/0IdIoJLoeeh1liyIRha5nhkTQLKCJizWcTgUGgffHqgEJqWOIMpiwxoP2Uy+j9dNv5drFbUmpwFIRFhCKSTQVlVMCFtBJLqAqEMTodj+IBpuF2nC/Id/goLdl9DRpPnVyb7u3CkVRPe3y+2YlYgnQzaSCf8FcWvI9Qceuc4ptRujOk5RmL3kg6I62PXY2Ch3tjTOm45Y03v/Aj6YxC+X/sBihj/flGEPlRDiCH+f3Po43yJBOwmYBBC9w0R4pAgvtcofjeg/JAIhPbIhVMTWqLD9JMoOmQLwnvETdqMYmKsAUE/rMX7cYbMhwRcQsCczcpQnMZrK2HFin4onmYHPnmzExa/NhYH5rdFDpkrEfrwZtctqD5jCybWZeyDSyqKH3lKwIwuMERibM12ONrmByz+QOz5MYSjZ+EPcSS++EWcY2xrra+xcVLdODvmYxcBil+7cDnz47ili40V4otfICbqd8RmzInr22dj8rhp2HG3PeYeEZ7hp58yCuK9Cf+bM7nguySglcDxKXXQdMr1hPG9icMeDMKuXxN2XTqeXdsMjdCaA/6OBOwjkNRm48TF4gpP4yXNJXd8Muo2moYco+KtcNj3Wf6aBBwkkFQXJJ3AJQ17AMw50xzMgp++RvHrsoo3J37lDvmx6DXsPOp9Mx3Pzy6NwYmEbpz4bYvZ+8aiOmN7XFZb/JDoXrWIX3Od8FPx2/qbvRhDo6UpuZBAUpt9Khzaip3yn1Y3Hzr2VPxm+WQHlnbO68Lc8lMkkFQXWLThBJ7fp+I363BsW94ZeQjSbgIUv3Yjc/SFk5herz6mZInnITMGun+KZMFxnW5SL280FnUojRGXe2PFVhHY7uin+R4JOEJg/QAU67XLTNhD/NMexBJd+XbY9e5/cek3FnfEWx9fxvurIhBEo3WEPN9xlEASm42zz3logi9XTUJdY7zZVWyauhk5+rVHGfmvkWMQIMTxaxNPi02a9DA4ip7vOUIgqS6I6z93ovyzlQhznt+ndl1yAk7Masb9QA6gp/h1AJqjryQJbDfGmi1DzqaT8VmbWwjtPhI70BIjPm+AirUqiaOikgoLR7/N90jAbgJWNryZvLpXwnug/uQXMGWTCNV5eulF5JgK6LCjMTe82Q2cLzhNwIzNGmN+x/6ItGU7o3+rvPhr9Uz8WjccYW3iNgrFiY2UCDkhNrwlurjF6fwwARKwQSCJLogWe4Fq9cbaR1UxdOEkNH4wC20DZ+LPCkMwd0oblJGXX0UvQqc3hyHVFz+LDW+8VsgRI6P4dYSao+9cEQZb9RsUeXbU2VXsCv0CX2+4hELNBqLZc3uxICIahRp2Q8fqeZFGHnXW4md02rcYHbgL2VHqfM9hAgbhFKuF9y/2wSZx1JnRBMUFLPuXLsKKbUdx9t/seL10AzRvXxulnt04JI86a4lfujF+0mHsfNEJAmZsVpyqczp8IqYt24ZfUQrNun2Atm8XfHoTYdxRZ9Nyz8Y2semYfl8n0PNVxwgk0QWim/1jO+ZNnYHwvfdRqEMFYEM0SvZticYVyhhv1jQedTY5N0KfnRzl2Kf9+S2KXxfXvjzMuvXS0gid19nGLVhXEd69Hr4PWIXQDkIIuzif/BwJGAkYLwwIxo1B80X8ru0jdaQnuOHailhp8xIX8iUBnQjYYbOGoxPxbp/bGBJv5UKnXDFZErBIQLsuiOuTJzbsizvDNsZdPMTHIQIUvw5hc+YlebZvR0w42x7Dx9Q1L4CN1xsPENcbTxbXG1P4OkOb7yogcGUThvRYhjzDP8P7ZS0J4LjrjQeI640ni+uNzV7brSArTIIENBHQYLPyeuNe02LQOzQIZRnuoAkrf6QXAQ26QH469kfM7DkVMX1nIKgsha8ztUHx6ww9J96NiYoCcuV6uvSWOKEYxP2Zxu0EYr6qkoAhGlGxGZDrWXhD0sSt27TKzDAtEtBAwIbNGqKjEJshF6yYtIaP8CckoI6AzT5UQz+sLje+nRLFr2/XL0tHAiRAAiRAAiRAAiQQjwDFL82BBEiABEiABEiABEjAbwhQ/PpNVbOgJEACJEACJEACJEACFL+0ARIgARIgARIgARIgAb8hQPHrN1XNgpIACZAACZAACZAACVD80gZIgARIgARIgARIgAT8hgDFr99UNQtKAiRAAiRAAiRAAiRA8UsbIAESIAESIAESIAES8BsCFL9+U9UsKAmQAAmQAAmQAAmQAMUvbYAESIAESIAESIAESMBvCFD8+k1Vs6AkQAIkQAIkQAIkQAIUv7QBEiABEiABEiABEiABvyFA8es3Vc2CkgAJkAAJkAAJkAAJUPzSBkiABEiABEiABEiABPyGAMWv31Q1C0oCJEACJEACJEACJEDxSxsgARIgARIgARIgARLwGwIUv35T1SwoCZAACZAACZAACZAAxS9tgARIgARIgARIgARIwG8IUPz6TVWzoCRAAiRAAiRAAiRAAhS/tAESIAESIAESIAESIAG/IUDx6zdVzYKSAAmQAAmQAAmQAAlQ/NIGSIAESIAESIAESIAE/IYAxa/fVDULSgIkQAIkQAIkQAIkQPFLGyABEiABEiABEiABEvAbAhS/flPVLCgJkAAJkAAJkAAJkADFL22ABEiABEiABEiABEjAbwhQ/PpNVbOgJEACJEACJEACJEACFL+0ARIgARIgARIgARIgAb8hQPHrN1XNgpIACZAACZAACZAACVD80gZIgARIgARIgARIgAT8hgDFr99UNQtKAiRAAiRAAiRAAiRA8UsbIAESIAESIAESIAES8BsCFL9+U9UsKAmQAAmQAAmQAAmQAMUvbYAESIAESIAESIAESMBvCFD8+k1Vs6AkQAIkQAIkQAIkQAI+In5jEPVbLDLkz4WMnlSnhmhcugY8nzs70nhSvjTlxYDoS1dw69HTH1/eiR2PG6NTtaya3uaPbBCgbbjfRLy6DtyPz3wOZF98HXef/vHuL1twskA3BBb31PxaypeHjimxUfgtJgPy5/Kokc5tlRsT9TtiM+ZDrgxuy4KZD8ux0zjwI7snDfwe2t8Zoi/hGp5HbhfD8nLxG4PzW2bjs5GzsfNOI4QeH4dantAGhJEdWxuCYaPW4lTRQYhY0RX5PCFf9uTh3Ew0e3scjj17pxJGHlyIds/bkwh/m4QAbcP9RuELdeB+imZzYNg8CBW6f4fbpr++0Anz93+CAA/Nb9JseeiYEnseW2aPxZhZOxDTaDaOjPOIkc5ttRpzYQvCxozEnO0xaBB2DCEegUOI3mNrMC54DL4/VQRBO1agiycM/B7a3xmij2HtZ0Pw6dpTKPzRDizrmtel9uTd4ldUalTsRSxp1RTTr7b0HPErZudR2IexxQdgY9mhXil+D4ZUxpiMM7GuTzGXGqTPf4y24f4q9oE6cD9EczmIxrLOlXCg2UlMqu+ZObSZKw8dUwzRUYi9uBhtm0xDVCt/F79CZEbF4uKS1gicchWBHiN+xWpBFLB/zGsI+r4MhniK+PXQ/i7GCGs0Xu+3AaWHUfza7JuS/uA4ptRu7Fni15jJ1eiTz0vFb/QydC0/CpcqvINyb1RH8/a1UcrFSxIOGIIXvULbcH9leXEduB+e+RwcDEG1dquRo0YAylRohhbNA1DQo5ajtYLz0DHl+GTUbUTxa6rF41PqoKlHid+4nK3pnd+zxK8n65E1vfAKxa/Wjinx7zy0o/Jm8Xt8KYbP24lzB3bixz/vAelfQZspCzG69guOVhLfS0DAi4WXz9iGF9eBh7amGxHT8NmGIzi7eR9OxTxA6ucrIWhmGLq84UmBj1rgeeiYQvGboPIofrXYsuk3HtrfUfzaU4kUv87Qsu9dA/7YPgn9e83C8bTvYmrEZNTPbl8K/LU5Ah7aEdlVWd5uG75QB3ZVmAt/HIMT84PQ7dPNuPlKEJZu6I2SLvy685+i+HWeof4pUPzaw9hD+zuKX3sqkeLXGVqOvHtlfhtUHnEabeYdwehqjqTAdxIS8NCOyIFq8l7b8J06cKDaXPCKAbtGVEPnJfkwbPMSdMzngk8q+wTFrzKUOiZE8WsPXA/t7yh+7alEil9naDn0rnG5bSHKUvw6hC/pSx7aETlSOq+1DR+qA0fqzRXvGAe2aAyLFOL3ZVd8UNU3KH5VkdQzHYpfe+h6aH9H8WtPJVL8OkPLkXcNwkDfGJ4J0zzlKDlHCuFR73hoR+QAI++1Dd+pAweqzSWvGMVJZKAXnnZD8esSA3HyIxS/9gD00P6O4teeSkz826OYWLMpZvzdHF8d+gJ1PGVvhSEcPQt/iIhSwdi4pgdedaaILn33IhZ2bY2Z117HewMGIzDvAYx4bzZyf/49PgrwFLguBaL+Y7QN9UztTdFr68Degrrq9zvwac2PsTNHTXQbMQA1b3+Drh+eQYt5s9DKezq/p7A8dEw5OhG1m0zH9cBQ7PuijhdenKTWFo9OqIXA6X+j2ayDGF/bU8YmA8K7F8HgzaUwaMtq9PAU2/fQ/s4Q3gPFgzajVPBmhPd0LSzvPuf39jkcPHAaf9w2GFtVmsx5UOStcng1s9pGZndqfx3HtmMXEH1XXo+WEhmyFUCpGiXxkt0JueeFK4e+x7ot23Dmek4UrlED77xdHnk8pW9xDxJ1X6VtqGPpaEpeXgeOFlvf9ww4vWMZftjyEy4hN0pVr42mtYp71o2bWgB46Jhy+9xB7D/zB+KGujTInLsIypd7Fe4e6rQgVf+b2zh3cD9OX7qNOByZkadweZRz/8CP49uO4cI/sTCO/Omzo0CpGijp7oHfQ/u7v45vw7EL0Yh9LGClyIDsBUqhhgthebf4Vd+qmCIJkAAJkAAJkAAJkIAPE6D49eHKZdFIgARIgARIgARIgAQSEqD4pUWQAAmQAAmQAAmQAAn4DQGKX7+pahaUBEiABEiABEiABEiA4pc2QAIkQAIkQAIkQAIk4DcEKH79pqpZUBIgARIgARIgARIgAY8Tv7dv38aUyZOxLWIr/rx8GSlTpkTatGmV1NQTkcoLL7yIdOnToWatWujdp7fmdE+dPInZs2bjhw0b8OjRI6RKlQqpU6fW/L61H8p8vfjSS8ZyDho8GBUrVtCcrszXqBEjcfjHH/HkiUwJSJYsmeb3reZLpCfLKFN99FAe3hKXvoonc5asqFX7bYz/fLyK5NyahrTZyRMnYfWqVYi5cwcphW2kTaPmbDhJ/H//y41UqVPZbRsH9u/HaGEbZ8+e1c82hI08eiTPqlFjG9J2cz73HOo3bIihw4ZqrldTv7F54w+IiopSXgcFChQUJXxid7+huQAu/qG0DWmzuvQboiypRRvQo9/ImCkTKlSsiK9DZ2gmZrKNiM1bcOWvv5TbxsuifaYW7dPeMcXUb4R/9x3u3b1rHFPSKOw38uUvIMYC2N1vaAar+Icrlq/AN3Pm4Jzor1KkSGFkkTx5cqe/Iu0wXbr0eGAwoGlgc4f6lZ3bd+CPixeNekSOiarylTVrNqROkxqNGje2S49cFtpozuywZ2OOattxdMyRemTWzFnYuH69ccyR+ZL/qHhkPeZ64QWkT58eIUI3FClc2KlkPUr8ys4gaMBAI7Radd4xGtjWzZtw/NgxhIaFOVXQ+C/v2rULyxYtQt369TU1BGlorQJboPY77yCgchWcOXMa69esRebMmRFsxwBtqwAbvl+PbxfMx+y5czUJYGlo3bp0fZYvOaBtEuK8fsMGqFSliq3Paf77jehonD51BgUL5McLL76g+T1rP5QCZV7YHCRPkRyr1qxWkqY7EpE227J5ICoEBOCN0mVw4/p1rF+31tjRjv7sM2VZMtnG5xMmoH6D+jbT3bJ5M0Z+MgKt272HosWKQdrGmpXhaBYYqMw25CTwlii/ats4d/Ycvp0/HxkzZdRsG7IdJO43zv/6KyZOnWqTldYfmPqNVm3a2DVQaU3fVb8z9hudRb9RN64/M/Ub1WpUR526dZVlQ49+4+zpM1gZHg7D/XvYFLHFZl5l++zetSsyZMiIt9+paxxTvhf9zV9//qncNuaJMapTly6abMNSv5EyRUq3jik2ger0A+nw2iEEZqu27fCcmPxu3bLFWE+Tpk3Dc88/r+Sr0u7nCAeWvf3KNTFWtX6vvdF2fjpyRORrDULnhAmbyqAkXz8d/cnY371S6FXM0DCpk7ZTT+gjqUfijzl62Y7WMcecTlqxZKnRydWgUSMlrGQiy5YswRrhaAoX9uGMAPYo8SsbwIlfTqJz9+4JQM2e8TUePniIkWPHKAN48+ZNdO/cGaPHjrUqJkydZ7HiJYydZ/xnePBgdBBpVBTCR9WzZ/cefB7yGXbu3i08YDktJmvMlxjwi5VImK+7sbHo0bkTvp41CwVfeUVVtvC7mPUe/vEwmjVrqixNmVCHtm3R84MP0O69dkrTdVViUnTlyJETjZs1S/DJYcKDH9iyBd6uU0dZVo4fP45hwcE2G72pE5LtqGix4s++76u2MUdMotatXYs+/QcgfbwBacqEL5AnTx707NVLWR3IfqNl06ZYsHixpgmqsg8rSsgkuuo3aozSZcsmsI1hoj/7aMgQlCxVStHXgKhr1xC5Zy+aNn1XWZqmfkPLJGT0qFH4+9p1tGnfPsH3pW1kz54dH4p2quqxxzY+FE4egxjTEufLnWOKKg72piMn6hM+/wIffTw0Qftd9d0Koxd4gtAFKh+tY46xXxFCt4+oq/j9yiIhVP/68zK+UJgvkx4ZEBRkcyx05Zhj0iO2hKYlnSTHnIFihV2yUqlHNggn33LRB+/eG+mwaXiM+DV5qkZ/FpLA0Ewl07NTOHH6lEWAlgS5fOH6339j2OCPMGP2bKM7XtXzmRDkD+4bsHDxt1bzdeHCb0bPXuLn8KFDWLxwARaKGZLKJ3LvPrGsfxt1FAq6i7//jj5C/NpqXCrLoSot2TlujYhAl+49ktisqdGrto05wtZk/VrzesmBNWWq1EkEuSz3qZMnEBYaqtw29h84hFs3o11uG1LoS8978LDhxnCJ+I+sAz0Enex45arF4Z+OqDIll6VjSXSZbGPqhIlYKVYuVD6HxKT5V+HNb92mlbJkpVhoLzzw1voNOaZ8Mf5zDB46zGz7lLbxQZ8+yp0X08RAb802rOXLnWOKssqxIyEpmqoEVELXHj0TTMZMSYSMHoV6DRoodSJoGXOkl7hr5y5i9c68HtHTuWHN8eWpY47USQcPHDROFBI/cszRo18Z0Lcf3ir/lqbVe3Mm6THit0fXbsiSLRuaiIHM3CMH/AN79yr1/srvDBQA365T2+JSVeWKAejVrz/y5stnNl9yFpgvfz40SeT5s6P9J/mpyYOwX5TZkvdX5kvOlBMP+KbE5Gxr4pQpSkV5dPQ/2BMZiUYirELlM1R4m1577TWHjVhlXuxJS4quOiJ0Jr53Nf770jaeE977dh062JOszd+2EJ7HRcuWml3ykWKwgVihmDjtS7OTSKPN62Ab9+7dw7ZtO1C/vrplc5lXOREsUKCARduQne75Xy8k8aCZIO7euQMXfj2PQULoqHys1YHK76hMy7hcWvsdjBLhOPE9WfG/MXXiBFSrXl2p2HgowmM2b9qii23kzJnT4r4B6SEr9cabZkWVLLO7bMNWvuRKZ7HixZWPKXKyYM3Ro9LWtKYlJwLzvpmH3mLVxtyj12Td1pgj+5WrV6LMOhBkPqUeWbtqpdHxpfKR+apUqZJFPSLDHZq3amV1zFGtR2T5bPV3Uo906tbNYr7kmKN6ommaADtq0x4hfk0xLHKGbknMmZZs5XKjSi/r8qXLcPKXX8x6WeXsr1+fvmKwCLFo33p5Wa01ApPnwFq+pPBKly6t0iVfCeEHMYgVL1oYucVysqpHetK2iRgvb4r9NXoGOnXGBCEyLT0m7+/KdetUoTKmY00QzhPx4nv2RKKL8KRYemRc+NUrV5QLQr1sw5qX1Vanq2cdpBEbX+zZeKXUCBxITPYb38z9xqx3xpScXoJw8+YIZMuWBWXjhVo4UIQEr1gb/LQIfb1sQ67OXLr4h9kxRUu+9HL02BJWztaHI+/LiYDcMFinXj2Lr+sxWbc15thyLsnMujpfWvSIaeXAlWOOlnzp1a/YEuXWbNIjxK+t2Z+pAK6eEdua/Zny5epGoCVfenXsv4iY7AsXzqNRo4aO9HVm39GyhKnsY4oSsuVx1NM2ZByWpaVV6Y2uXK26RW+XzJeetnFGhBA1a54w/tlZ5JY6OC2drmmQ8jSvg7NMHHnflsdRT9uQewZ+PPQjmrvINrQIfVlePTzd1kS5zNfcOXPRd2CQxSrUK2RKOnoOHtjvMU4GY8hDxUoYM26cRaeXhKTX6qqlsBktziV35MtTxxwt+dJrzJGOoJxiz834L+w/NcojxO80sTx/RsSEtevQ0WqfrteMuKdw1/cfMCDJxrf6YonhPRH3YynkwZRZPRunOZe+8eQJMVO2tNxuyldPsfFtgYj7zZgxoyNjpdl35AYWKb5Ub3zrKcJe+g9MWgfKMq44IRkP9vqbpa2KTL06SJluI1H/5mLDXsmXHzOFd8/SsnZ8UT5KdBwqNyHIsJidO3eiSRO1m5ssebpXiiOiNmzYaNXLLcsrN85kEMfjqA4/sVQHik1NWXKVKlQ0xr9aWl0zfWjcmNHoKE4tULnxTYbFRGzdjoYNLHv4HCmoJduQsc3Pv/giKletZjVZaRvy6KT3dAhN+vLrr5NsitSar5DRo9Gpq9o6cHaZ2JH6sfaO1slr3LgfKUIexyrNgqUxR66eHREnMJjbTxM/A67Ol7vHnDo1asBcKKbWfEknoeoxR2qRRWJ/02YNJ78kNh6PEL9aOwRpbPtFI5AAVT7DhnyMgEoBSeJsKovB4iMNg4Ue4teawNGaL7lJUO7eVilwbotzbLdu3YYm7zZWWQU2YzuVfkxBYlrrQM/BNXHcr2nz14Sp02yWMEQIHHksk0qBo2dsp7m4XzlIyc1UtibNcsntt/Pnle7sl4DlrvHPJ070mlMf5MRo4bLlNm1jtjhuqVy5curjfkXoQ/1679j8vj0/mCpiM9OlTZfE86PFyy2/o5uAseBQ0ZovvcYUKWB+/f03exDr9lt5xF7Ip59hsNisau2RG9TmzpqpPL7W2YmTq/PliWOOrDet+dJjzHFmQucR4lfrzEHGs0iAqk8xsNQItA4WegkcS4Or1nzp4T0wChy9BrF0YhDzkksvtHrRXLlaodWTIjssPQZXXW3DjMCxZ9LsSs+RbmrBiYTtmRjpYRsy6xs2bkLFCm8ha9asTpQk4auWYje1rtrJDVXrxJmhE8Tqo8rH0piiddXOH1YrtK7c6LVkPm3yFKQV+2ISjzlaJyh65cs4oTMzFnrimCPbjNZ8ybDVcm+9pXRS7fXiV+vMQVdjSzS42jNYuNJ7YE++9BrENv6wGXXfqa1yrIBx4+EJsfFwkeXj3ZR+0MnEtE5AXLlaodWTopf4dbXA0TpIudpD46Rp6fK6tI1xIeOMJ8TYevSazEdEbMNL4pKcwPRikgAAF89JREFUYsWL2cqC5r9bEr9aB2S9xhRL4lfrWOcPqxVaV26kMbwnzkzftG2bZrvQ8kNLY47WCYqr8+WJY45koDVfeukRR8PPPMLzq7VDcKWx2SMy9fIeyGPY5EUJ8S+AsCdfenkPNv6wCRXE+XoqPTjWTt3Q0pG58jdxGzUCMENsXLH1SOE1Z+ZMcUOh2iNxzIXqaNlMY8qvPPEhNuaOV5wGYimuS+sgpdeKkSUPjS2bcMfftW4Ak3nTS3jt2LlLxF6nU3rig7z4ZaI4y3fPvoSH3b9eoqQ47m+azdh3vWxDnvjwzz//JLmxS2u+9Nodb2l/iztsUl5A8u+/sHrSgylfeuxfsTTmyOPE2mvY6yPz5qp8eeqYY0++9NIjjp744BHiV6ux6dlR3RQdVfxji+ypVFd2VPbkS4/YPdng9fD8GgcLcY3yjJmh7uiH7f6m1tmucWK0erXyW4rMTYy0npoiC6ufbbhuYqQ17EGvyamlvQJ2G5MLXpAhMX1798Fo4f219fjCxEjLUVWSgysnp/J7Wsc6WQfyQqH3e/e2VV12/d1RoWDXRzT+WG50/+uvqxbP0o2fjB6eX0tjjtZJtcyfK/PliWOOZKA1X3qNOY7GsXuE+G3VQpxeUNf26QWu7qheL/Ga1csC9PaiWeqotOZrmtiMU09cSKHy+mW9dm17kxdN1vvrrwnPkthYZutUBb0mRubiwe1ZFZBHPNVv2NArbEMOUoknp7IOtHqO9KqDgf3Eyozou7zham5fnTRb8t7ZuoDG1HfrNTEyNzmV39QqrDzNS6ZRz9r1M60rVXHjfqhYPQuzK31bP7Y05mjtV/RyxlnKl9YxR6+Jk6U9SFrzpceYI21j0MCB4kbFo7aqO8nfPUL8ajU2V3rRJCmt3gNXz2i0eg/0OH9YHme1Wxwv0rixunN+JWtv8qLZ68HRI7zA3MTIHoGjx85beRLIdnHLm6tsQ6vnSK/BwJO8aFp6fq0eGj0GKb0mzZYmRlpXBfSaGFkKL9CaL1ePKVrsR/VvtK5U6TVBsTTm2KVHdNgsaSlfWsd9vVZuLPV3WvOlx5hjKexJi616hPiVg9jlP/+yeLVxfA+rK5eCtHoP9BgsZKWOHTnS7IxGS77kRg551JncxazyRrw/RT3t27dP+WH13uRFk/bYs1t3FHj1VZvniLr6EH2tqwJ6TIz0OgPakhdNaxyrHhst5C7j7p07W7xmWkvn6+rfaJ3M62Ebek2MLF1Pr1XArBJnRT/597Hy2HdLQkFrvvRYtXNGKOhhq1on63pOUDp07Jhk5UaeQrFixXdWLyKRPFydrzYtW+H10qU9bszROhbq0a/YuqnPmt16hPiVjUB2zKE2NhDJw9ebt2ypdKk2TmSOEiLzSBJOWq6KjROZwZghNjSpvEzCWgyslnzpdcrA3r378fDhA1StWkVZf2g6rsTcpQ3KPqI4IS3H9Og1AbHW4AcFfYjncuWy2kHqFT4kbePKX38qveHNJDI3ieuvcz6XM0Etah089Thc3ZlOV7Epak5Oi/CStjFt0kTlx0mePn0Gp0+dxrtN1J0Pbm0CIidGI4d/YvX6cQlOOgh69e2r9LxrayJT5uvzceOtxl6bTqBQfUGRPNrrgei7Z4hznD3l0bLZXQ/nkrUxR2u/oke+ZPvr88EHZi8w0jrmyP5uhggVU+n0stbfacmXXmPOAHEoQNFiRR06ItUjxK+WEAPTndWu7BC0NAI9z3E1NyuVrLTkSzbMokWLKr3VSp7jukWc8VuxYnmlJz1IoS835Kxas9pT+mSb+dBSB3pNQCx5QmWmtcTRSW9XerHrXuWtVtI2IiK2ooToiHLnyWOTn9Yf2BKZPcTNgAULFbIo9j2x09VadtW/k8edDew/ANYuQdHLEyrPBi9apJBLbcOWsNLLNoznx6YV58dauHLVVr7ksvX5c+fEjWZjlJqAJ530YCqYrQmZns4la2OOPM2nRZu2Fm/w1DNfljZ+e+qYoyVfeow5zq6+eYz4lY3g72vX0aZ9e7MNXm4A+PfxY+W7X2UQ95ChQ5NcbWzKhK1GoMfsT3oOhglvsjVPqPSUt7TQOPXyOOq1rC2vmezQKenyk9KeX4fEbHlZpW2UKVsWTZo1U/Z1a57Q/yZGlTBm3Diz19jqaRt79+5TfvOfNaEvy2vL6+CJna4yY3AgIVvCSw9PqOw39u87oDwWXNpGOXHk4tBh5s8utiWs3GUbtvIlLycKbOW6FU4HzEjZK3KTbv136lpc9dXzDH1LziUt/Yo7nF4yX5445sh8WXNCyDFnmFhhUX21sS3HiC0j9Rjxa5w9BFRCsLjqMG++fAnybdxVOXqU8W5vlVf1zg2bY7xYwZrH0egt6dff7PKZnKFH7t4t4monKwt5kOJm9CcjUER4bS15DkwevhFiWW/itC+T1LGMcUybNo3SiYLJs5czR3al53TKOti5fTtWr12TZFnblvG6++/SNroL4T5J1EHiUx9k57hY3Dkul59UhsPIZZ6X//ey1aVLObgeEdf+mrs2VNrGo0cPMUhMrlQ9JttIL24lUhkOI1cEdu3YadU2ZL8hB89O4jrZosWKJyiSaQl/grgxSeUSoLzAIHWqVF5zLF98KHKysGD+ArO2sWmj8DiePWvsZ1U90jZ27tiFVKlSKrUNOfDNE33Hpi2bLfYbUlg1ELYRLPrJxGOKyTZGjhmjdEyRtmG4b8C3iy1f1mPK1xgR/pDzuecSoJZ1ELlL/ZgS/OEgVKteHUOH277kRFXda02ndYuWKFy0WJLzfk0T9UFDhigNS5Fjzi4x5qyyMuZY61dMekSvfO1OdGZ1fI6eOuaY8mUudFVOMq/8eVlpvyJ1Ur9evdBThIg4etqOx4hfWcHmAMoGMFXEoFWpUkVsiGuutT3Z/J08OH92aKgm0SXFxKmTpxIEwBs7T+HZUy3I5ZLZH39c1BQCIAPNb966hX4iztP06CW69h84hMuX/lC60c20qe/Lr78WoRQVbNaZJ/5gihBWO7ZtTyAm9OwcDx08gMVLlticKJgbUOQGjdXh4UoFuRQ3hw7+KM7r/NNttmHqN8bGExOy35C7izuITWkqj/rTIro80U7j50n2G4YHD9FdDBymR+6oX7JwoXGDrMrJ2rFjP+PcubNKbcN0vNFoITTrN6hvFbcMA0rsJNDLNuSxa98tX25VkJsyay721xPGFHfYrhSaVYXjS07WTZMUWUfyxAvpBFIZnmXPmGOpX5H5KlOmjFI9Yk++zDk3PGHMMaeT9OpXQsZ+ilSphQPCifh1jxK/suFJMfGN2PhWWYjdW7du49zZM8gjYghr1KqlpF3KJbg/Ll7ET0eOYEBQkOZZg/QuPXjwQFzNWQJXr17FuTOnUbFSJZR47TUl+fpHzGT2R+7FjRs3NAly00dlvgwGAzJkzIhbIo0b16/jtVKlkD17diX5ypQpM+7ev4eb0TeN3mTpwXH2eSQEU5o0abFn9y50FOKkT98+zibp1vflks+FCxdQoGBB3Lx5C2eFbQQotA2D4YE4YWMvLv9xCWHz5qJI4cI2yysHFOn1KlSkCP4WKyd62Ubs3bsi7VvKbEMeiZUxYya7bUNuAp08aTLKV6iAu3fv4Zefj6OQiAWuXrOmTVZafiDr4PjxY8Z+Q4vo0pKmu34jbUNOjjJnySJOOngi+rMrxn6jSLFiyCU2S6p4TP3G7Vt3hJc8pbJ+44nI3I8HD9rVb8hBOVI4O14V9nBLlP0XEVam0jZkmmfPnLHbNmS+9ggvb/4CBYz9huoxBUiGDevXI9rOMUVF/dubhhSabVu1Nnp/bz8d97NmyYp36tczxk87+8gx8pyIo94XGWmX7ciVklFiQ3x8PfK8aCP16lufdGnN7y3hvDorVlvs1SOeOObIMpv0SN58+Y12d/H331BdaLdXxclIKp6Lv1/Ej2JVNVnyZJqcQNa+6XHiV2ZWBqKHC6PbLTqGl156yaaXyx6o/z5+gpRiybJT186aRET8tGVD+GHjD8LL9ZcxX1myZrHn01Z/e18MroWFqGnVqpXd5ZX5mi6W3mVDypQ5M5InT+50vv4V907GiHNb06XPgBQpkitJ05SpJ0+eoNxb5dG4ybte6/FNDFh6ciLEPydOnFRuG3fuxIpJVgmHbEOKwqVLlop4+mvKbOPhw4e4J0Rv+gwZhV0kU24bcvLWqnVru21D9huLFy3CwQMHkTdvXqXtU17DmjJlSgz6aJDd7dPpxqhTArLfmD1rNq5FRRm9vSlE+Zx9TLaRVoTASF7JkiUz/qPikf3Gq4UKC/HSyaNsQwqrdOkyOGQbst+Q9XDp0mXl/YYzY4qK+rI3DRkOIlns3LHDaDt5RBtW9TwW+4Xu3btv9CLbu8oo+5Xv161DxJYIY5jKSy+9qCpbuC9sJ72wHUf0iKeOObIO16xZIybUN4z9cPoM6ZXxyiiccTly5HBoLEycCY8Uv8pIMSESIAESIAESIAESIAESiEeA4pfmQAIkQAIkQAIkQAIk4DcEKH79pqpZUBIgARIgARIgARIgAYpf2gAJkAAJkAAJkAAJkIDfEKD49ZuqZkFJgARIgARIgARIgAQofmkDJEACJEACJEACJEACfkOA4tdvqpoFJQESIAESIAESIAESoPilDZAACZAACZAACZAACfgNAYpfv6lqFpQESIAESIAESIAESIDilzZAAiRAAiRAAiRAAiTgNwQofv2mqllQEiABEiABEiABEiABil/aAAmQAAmQAAmQAAmQgN8QoPj1m6pmQUmABEiABEiABEiABCh+aQMkQAIkQAIkQAIkQAJ+Q4Di12+qmgUlARIgARIgARIgARKg+KUNkAAJkAAJkAAJkAAJ+A0Bil+/qWoWlARIgARIgARIgARIgOKXNkACJEACJEACJEACJOA3BCh+/aaqWVASIAESIAESIAESIAGKXzfZgCE6CrEZciF7GnMZiEFUFJArV0Y35Y6fJQFzBAyIjopFhlzZYTRbQzQu/XUbj1KmQIrU2ZCH9kqz8SQCwj6jYjMgl/lOVhpwQnv2pLwzL35J4D9dIDTAb6KvzZ8LCVSATZv2S2wOFZri1yFszrxkwOnwYIQcro0xI+oijznxa7iIDSOGIqLscIQ0KxwnNPiQgDsJGM4gfPBYHK0zFsPr5kWac0vRtVMEqga/jDm9F+BxiVIo22k87dWddcRvPyNgOB2OIZ8ewduffoK6ZjtZ+dMYHAodiLCYdhj5YRW8SH4k4DYC/+mCD6oexedBs3EsdXvMPTIKVeLnKfZHzOw/CzHvjUZQlRfclltf+DDFr4tr8cqaXmi2shyWzupgXvg+y885zAlsh33NFyGs5SsuziU/RwLxCVzFmt6NsbrscoR2EMJX/CkiuBR6XhyI3UtaIc2lK2IVIxabe3SmvdJw3E/gymr0abwaZb6biQ4Wha8pmwZhy1UwNcskzBsSgBzuzz1z4IcEEuqC45hSuzGmXzcjfiUbQwSGVJ6MLJMXIjggux/SUlNkil81HLWlci4MLesvxZuL1mNwWQ3+3IMhqNb1d/TZNBPN6JbQxpi/Uk7gXFggGi8pjfkbghFntk875xwjhfjt8J/HjPaqnD0TtJeAdBo0wLLSi7AuuIy2VbPoZehafi6KLluLoDc09Mv2Zom/JwFrBJLoAhviV6R1Y1lnVJ5THIvWBYEm65h5Ufw6xs2htw6GVEabNTUwd6dYynjaxxqOhuGDEZuR5qX7OLjrHmqMmY4xz0IdxAyvZDccbrNCe0fuUM74EglYInAQ4yq1xLqa87FtVBUhJo4hfPwSrFi2DD+iLAJblsYr5dqhS/WXRQK0V9qRmwnICViLtai2YAdG/tfJYk7P/vjhxbYo/NOX2JWxEsr+Lx3Sl+uIMa1KigxfFIK5mvD+jsemsBYMf3BzFfrb55PqApP4rYC6pa7h8KFLuJb6TfT/8iv0Nnl6fxeOtGrC+/vFVswKZPiDIzZD8esINYfeMeMtixbLc9Xm4tUlK9C3OMTSckkEfV8UH21dje4F5UfiOuUQwyB8v/YDFHHou3yJBJwgcHwy6jaahhyj9uHbDqZO1oLnl/bqBGi+qoLA8Sl10HRKDgzftxgdnq6WGcXFiqqYvW8sqh+T4ngWcgzZgvAe/4WTGcN4NtfElxGTUJcrySqqgmloImCuL3363/6siTEbv0LrjN+h05vDcKLp19g4qe7T0Jw4R8PWWvH/m6YP8kdPCVD8uswUhNDNNwAbK/y3VPy7WE6uNfYmar1fCwVEPh7H3sD1mNQo02EsWpeKy9ia3vkRtNdC7I/L8s4P+S0BEaP+Sr8NKK9J/NJe/dZOPKTgxv7y+woJxG9cH9rkqbCN64ePdPkWkcMDnuXanGj2kCIxGz5NIKkueBZW9izm9ygm1myKGc/HDzOz5IDwaVhKC0fxqxSntcSSGrmxw52dD+N3i5heC96GuI67bZzXguFoLqstfugpAYfEL+2V9uMeAubE7431A1Cn12YU+WQl5tTdjy5Vl6PMspXoHy9YMk78ZsHQXcvRKY978s6v+iMBLeLXinc463BsW94ZNFn7bYfi135mDr5xEtPr1ceULP/N3m4s7oi3Pj6DxjNWYWLduCVlw9HpCN5VEZP7vSn+LRqLOpTGiMu9sWKrCGx38Mt8jQQcJnBqOhrWnYgsmjy/tFeHOfNFJQROflkfjSZmSeD5Ba5ibZ+eiCjRDlVyZkW+SuVRJtGZ1JFjKqDDnJIYf0Y4IuhkUFIXTEQLgaS6IKnn15z4jcTY8u0wr+QEnJjVTNvGTi3Z8aPfUPy6sLKTBLZHr8fAWr2x9lEZdPykB8rjEL75/AzqrZmHtsZ4tTgD3/UuN7y5sJr4qQQEEm94k398ugyXIXEsOu2VxuNmAmY2vB0Xgrjj7or4qGVh5MxbBgXFeWbpn8+HXBlMeX06aUs1Hj+JDW+8WsjNdehnn7e84c0U7hgX37uieLywh+hFxjjgVF/8LDa80WIdMRmKX0eoOfrOFWGwVb9BkXhHncnD2D/9ZAa2XbqLnG92QL/BHVHddDalsSP/GZ3ibd5w9NN8jwQcJXBFrFDUnFPk6VFnl3A0fA3CIy/gHtIhf0BzNG72BnLLxGmvjiLme8oIXBWrZVUxv+h/R50ZTkxFy8D5uJ4lbdxXHt9B9P3SGLpKOBnkxmLjUWdT8L+weCdEKMsPEyIBGwQS6YJL26Zj5veyf02J3HW7oOrtdaK//Uv8eza82b4P2r6eNe6os8m5ERrv5Chyto8Axa99vJz+tTzMuvXS0gid1xlFrC6vXUV493r4PmDVs4sFnP44EyABhwjISy4CseLNMMzpbOnGQdqrQ2j5knoC8pKLwOV4M+wbdMovlpVbfIDLvXdg3Nv/dbhHJ9TCzPzrEdpMrGNMaIQBd4bie3GUH31o6quDKdomoF0XiLQMYuWtYV/cGbZRHOdHi7VN1/wvKH4dJefwewYcDeuICWfbY/iYuuYFsPF64wHieuPJ4rrYuBu1+JCAWwmIDndOh89xrsNIjKqbSADTXt1aNfx4UgLy/PTO48+iXf2UGD58DYoMmIUhrUqheMZYnNi7GJ+H3kf3xX2Q+pv3MT2mH776sAyFLw3JjQQ06AKZO3m9cc+piOk7A0FlKXydqTCKX2foOfFuTFQUkCuXhQ43BnF/pnE7gZivKidgyS5pr8pRM0HnCcRGIQpZYTg4D7Pnrcf2s9eRs1ADNOnWHA3LFkL2NAZER8UiQ67sdDA4T5spKCBgXRdIr280omIzIFd2usScxU3x6yxBvk8CJEACJEACJEACJOA1BCh+vaaqmFESIAESIAESIAESIAFnCVD8OkuQ75MACZAACZAACZAACXgNAYpfr6kqZpQESIAESIAESIAESMBZAhS/zhLk+yRAAiRAAiRAAiRAAl5DgOLXa6qKGSUBEiABEiABEiABEnCWAMWvswT5PgmQAAmQAAmQAAmQgNcQoPj1mqpiRkmABEiABEiABEiABJwlQPHrLEG+TwIkQAIkQAIkQAIk4DUEKH69pqqYURIgARIgARIgARIgAWcJUPw6S5DvkwAJkAAJkAAJkAAJeA0Bil+vqSpmlARIgARIgARIgARIwFkCFL/OEuT7JEACJEACJEACJEACXkPg/zRTJUmV4Ai+AAAAAElFTkSuQmCC)\n",
        "\n",
        "Aquí tenemos las formas para cortar una varilla de largo cuatro, arriba de cada pedazo está el valor por el que se va a vender, analizando esto, podemos ver que el corte que dará el mayor beneficio, es el que parte la vara por la mitad, que, en total, se vendería por 10."
      ],
      "metadata": {
        "id": "YZz8bCHPk6os"
      }
    },
    {
      "cell_type": "markdown",
      "source": [
        "# 2. RodCutting"
      ],
      "metadata": {
        "id": "e2fZaEG0tfMM"
      }
    },
    {
      "cell_type": "markdown",
      "source": [
        "## 2.1. Código Recursivo"
      ],
      "metadata": {
        "id": "NcDmWgSij6pA"
      }
    },
    {
      "cell_type": "code",
      "source": [
        "import random\n",
        "# CutRod recursivo\n",
        "def corteVarillaRecursivo(n, precios, cortes = 0, recursiones = 0, verbose = False):\n",
        "    if verbose == True: print(\"\\n N =\",n)\n",
        "    if n <= 1: return precios[n], cortes, recursiones\n",
        "    valor = precios[n]\n",
        "    if verbose == True: print(\"Valor varilla completa =\", valor)\n",
        "    precioMayor = 0\n",
        "    nuevosCortes = 0\n",
        "    for i in range(1, n):\n",
        "        if verbose == True: print(\"Calculando derecha\")\n",
        "        recursiones+=1\n",
        "        precioDer, cortesDer, recursiones = corteVarillaRecursivo((n-i), precios, cortes, recursiones, verbose)\n",
        "        if verbose == True: print(\"PrecioDer\", precioDer)\n",
        "\n",
        "        if verbose == True: print(\"Comparando PrecioMayor anterior con nueva suma\\n\", precioMayor, precioDer + precios[i])\n",
        "\n",
        "        if (precios[i]+precioDer) > precioMayor:\n",
        "            if verbose == True: print(\"Nuevo precio es mayor\")\n",
        "            precioMayor = precios[i] + precioDer\n",
        "            nuevosCortes = cortesDer + 1\n",
        "        if verbose == True: print(\"precioMayor\", precioMayor)\n",
        "    \n",
        "    if verbose == True: print(\"Retornando Valor o PrecioMayor\\n\",valor, precioMayor)\n",
        "    if precioMayor > valor:\n",
        "        if verbose == True: print(\"precioMayor es Mayor\")\n",
        "        return precioMayor, cortes+nuevosCortes, recursiones\n",
        "\n",
        "    return valor, cortes, recursiones"
      ],
      "metadata": {
        "id": "oLVMtBCCj6E6"
      },
      "execution_count": null,
      "outputs": []
    },
    {
      "cell_type": "code",
      "execution_count": null,
      "metadata": {
        "id": "J8LdWPDtd5Dk",
        "colab": {
          "base_uri": "https://localhost:8080/"
        },
        "outputId": "a5b31650-30ce-4d56-ba74-796436e775a1"
      },
      "outputs": [
        {
          "output_type": "stream",
          "name": "stdout",
          "text": [
            "El mejor valor:  10\n",
            "Cantidad de cortes:  1\n",
            "Cantidad de recursiones:  7\n"
          ]
        }
      ],
      "source": [
        "recursiones = 0\n",
        "cortes = 0\n",
        "precios = [0,1,5,8,9]\n",
        "n = 4\n",
        "valor = 0\n",
        "\n",
        "valor,cortes,recursiones = corteVarillaRecursivo(n,precios,cortes,recursiones,False)\n",
        "print(\"El mejor valor: \", valor)\n",
        "print(\"Cantidad de cortes: \", cortes)\n",
        "print(\"Cantidad de recursiones: \", recursiones)"
      ]
    },
    {
      "cell_type": "markdown",
      "source": [
        "### 2.1.1 Descripción del algoritmo\n",
        "El algoritmo **Corte de Varilla (recursivo)** recibe como entrada un entero $n$ que representa el largo de la varilla y un arreglo de precios $P$, donde $P[i]$ con $i \\in R$ es el precio de una varilla de largo $i$, luego:\n",
        "\n",
        "1. Verifica si el largo de la varilla es igual o menor a $1$, si es así retorna el precio $P[n]$.\n",
        "\n",
        "2. De lo contrario comienza a probar cortando la varilla en todas las posibles convinaciones, empezando en 1 corte y realizando hasta $n-1$ cortes y llamandose recursivamente para cada corte.\n",
        "\n",
        "3. En cada combinación y corte se evalúa el Valor Total que costaría la varilla de venderse en ese estado, y el Valor Total máximo es devuelto en cada caso.\n",
        "\n",
        "4. Finalmente se retorna el Valor Total máximo y el número de cortes que se deben realizar para obtenerlo.\n",
        "\n",
        "> Cuando la variable `verbose` es `True` se muestra información para ver lo que pasa a medida que se ejecuta el código dentro de la función."
      ],
      "metadata": {
        "id": "jlXNzoo4CqWa"
      }
    },
    {
      "cell_type": "markdown",
      "source": [
        "## 2.2. Código Dinámico"
      ],
      "metadata": {
        "id": "DJEnA5ZIttJP"
      }
    },
    {
      "cell_type": "code",
      "source": [
        "# CutRod dinámico\n",
        "def corteVarillaDinamico(n, precios, cortes = 0, verbose = False):\n",
        "    arregloValores = [0 for x in range(n+1)]\n",
        "    arregloCortes = [0 for x in range(n+1)]\n",
        "\n",
        "    if verbose == True: print(\"arregloValores =\", arregloValores)\n",
        "\n",
        "    if verbose == True: print(\"\\nEntrando primer for\")\n",
        "    for i in range(1, n+1):\n",
        "        if verbose == True: print(\"\\ni =\", i)\n",
        "        valorMaximo = 0\n",
        "        cortes = 0\n",
        "\n",
        "        if verbose == True: print(\"\\nEntrando segundo for\")\n",
        "        for j in range(1, i+1):\n",
        "            if verbose == True: print(\"\\nj =\", j)\n",
        "            if verbose == True: print(\"Valor Máximo Actual =\", valorMaximo)\n",
        "            if verbose == True: print(\"Precios[j] =\", precios[j])\n",
        "            if verbose == True: print(\"arregloValores[i\",i,\"- j\",j,\"] =\", arregloValores[i-j])\n",
        "            if verbose == True: print(precios[j],\"+\", arregloValores[i-j],\"=\", precios[j] + arregloValores[i-j])\n",
        "            if (precios[j] + arregloValores[i-j]) > valorMaximo:\n",
        "                if verbose == True: print(\"Valor máximo es menor\")\n",
        "                valorMaximo = (precios[j] + arregloValores[i-j])\n",
        "            if verbose == True: print(\"Nuevo Valor Máximo =\", valorMaximo)\n",
        "\n",
        "        arregloValores[i] = valorMaximo\n",
        "        if verbose == True: print(\"Vm / p[i]\")\n",
        "        if verbose == True: print(valorMaximo, precios[i])\n",
        "        if valorMaximo != precios[i]:\n",
        "            if verbose == True: print(\"No se utiliza la varilla completa\")\n",
        "            arregloCortes[i] = (arregloCortes[i-1] + 1)\n",
        "        if verbose == True: print(\"arregloValores actual =\", arregloValores)\n",
        "        if verbose == True: print(\"arregloCortes actual =\", arregloCortes)\n",
        "    return arregloValores[n], arregloCortes[n]"
      ],
      "metadata": {
        "id": "vPuPB7EOtzKV"
      },
      "execution_count": null,
      "outputs": []
    },
    {
      "cell_type": "code",
      "source": [
        "valor = 0\n",
        "cortes = 0\n",
        "precios = [0,1,5,8,9]\n",
        "n = 4\n",
        "\n",
        "valor,cortes = corteVarillaDinamico(n,precios,cortes,False)\n",
        "print(\"El mejor valor: \", valor)\n",
        "print(\"Cantidad de cortes: \", cortes)"
      ],
      "metadata": {
        "id": "FThj7FXUtzXp",
        "colab": {
          "base_uri": "https://localhost:8080/"
        },
        "outputId": "cf74d850-5352-4d47-ba16-5bd0b1b3110c"
      },
      "execution_count": null,
      "outputs": [
        {
          "output_type": "stream",
          "name": "stdout",
          "text": [
            "El mejor valor:  10\n",
            "Cantidad de cortes:  1\n"
          ]
        }
      ]
    },
    {
      "cell_type": "markdown",
      "source": [
        "### 2.2.1 Descripición del algoritmo dinámico\n",
        "El algoritmo **Corte de Varilla (dinámico)** recibe como entrada un entero $n$ que representa el largo de la varilla y un arreglo de precios $P$, donde $P[i]$ con $i \\in R$ es el precio de una varilla de largo $i$, luego:\n",
        "\n",
        "1. Crea e inicializa un arreglo de largo $n$ inicializado en ceros en el que se almacenarán los valores ya obtenidos a lo largo del algoritmo.\n",
        "\n",
        "2. Luego comienza un ciclo desde 1 hasta n (inclusivos) \n",
        "\n",
        "3. En cada combinación y corte se evalúa el Valor Total que costaría la varilla de venderse en ese estado, y el Valor Total máximo es devuelto en cada caso.\n",
        "\n",
        "4. Finalmente se retorna el Valor Total máximo y el número de cortes que se deben realizar para obtenerlo.\n",
        "\n",
        "> Cuando la variable `verbose` es `True` se muestra información para ver lo que pasa a medida que se ejecuta el código dentro de la función."
      ],
      "metadata": {
        "id": "FIGE8k35j_gL"
      }
    },
    {
      "cell_type": "markdown",
      "source": [
        "### 2.2.2 Ejemplo en palabras\n",
        "Consideremos el ejemplo puesto al principio de este informe, con un arreglo de precios $P$ y un largo de varilla $n$:\n",
        "\n",
        "$P = [0, 1, 5, 8, 9]$\n",
        "\n",
        "$n = 4$\n",
        "\n",
        "Primero verifica si el largo de la varilla es igual o menor a 1, en cuyo caso retornaría $P[n]$, sin embargo este no es el caso por lo cual continúa:\n",
        "\n",
        "Crea un arreglo $ArregloValores$ de largo $n+1$, es decir 5, e inicializa el primer valor en $0$.\n",
        "\n",
        "Luego entra en un ciclo donde una variable $i$ va desde $1$ hasta $n = 4$ (ambos inclusivos):\n",
        "\n",
        "En la primera iteración del primer ciclo, $i = 1$, se inicializa una variable llamada $ValorMaximo$ en $0$.\n",
        "\n",
        "Después se entra en un nuevo ciclo donde una variable $j$ va desde $1$ hasta $i$ (ambos inclusivos):\n",
        "\n",
        "En la primera iteración del segundo ciclo se obtiene la suma entre $P[j] = P[1] = 1$ y $ArregloValores[i-j] = ArregloValores[1-1] = 0$, lo cual da $1$; como esto es mayor al valor actual de $ValorMaximo$ este pasa a ser el nuevo valor de $ValorMaximo$.\n",
        "\n",
        "Se termina el ciclo y se asigna el valor actual de $ValorMaximo$ a $ArregloValores[i]$:\n",
        "\n",
        "$ArregloValores = [0, 1, 0, 0, 0]$\n",
        "\n",
        "Se entra en la segunda iteración del primer ciclo, donde $i = 2$:\n",
        "\n",
        "$ValorMaximo$ vuelve a valer $0$ y se entra en el segundo ciclo:\n",
        "\n",
        "$j = 1$, se obtiene la suma entre $P[j] = P[1] = 1$ y $ArregloValores[i-j] = ArregloValores[2-1] = 1$, lo cual da $2$; como esto es mayor al valor actual de $ValorMaximo$ este pasa a ser el nuevo valor de $ValorMaximo$.\n",
        "\n",
        "Ahora $j = 2$, se obtiene la suma entre $P[j] = P[2] = 5$ y $ArregloValores[i-j] = ArregloValores[2-2] = 0$, lo cual da $5$; como esto es mayor al valor actual de $ValorMaximo$ este pasa a ser el nuevo valor de $ValorMaximo$.\n",
        "\n",
        "Se termina el ciclo y se asigna el valor actual de $ValorMaximo$ a $ArregloValores[i]$:\n",
        "\n",
        "$ArregloValores = [0, 1, 5, 0, 0]$\n",
        "\n",
        "A partir de aquí se repite el mismo proceso para $i = 3$ e $i = 4$. Realizando esto nos deja lo siguiente:\n",
        "\n",
        "$ArregloValores = [0, 1, 5, 8, 10]$\n",
        "\n",
        "Ambos ciclos terminan por lo cual el programa retorna $ArregloValores[n] = 10$.\n",
        "\n"
      ],
      "metadata": {
        "id": "wDg5J4AlkE7m"
      }
    },
    {
      "cell_type": "markdown",
      "source": [
        "### 2.2.3. Ejecución paso a paso (verbose = True)"
      ],
      "metadata": {
        "id": "xp2T4tHZt9at"
      }
    },
    {
      "cell_type": "code",
      "source": [
        "# Ejemplo\n",
        "precios = [0, 1, 5, 8, 9]\n",
        "n = 4\n",
        "print(\"Entrada:\")\n",
        "print(\"n =\", n)\n",
        "print(\"Precios =\", precios)\n",
        "print(\"\")\n",
        "valor, cortes = corteVarillaDinamico(n, precios, 0, True)\n",
        "print(\"\\nSalida:\")\n",
        "print(\"Valor máximo\",valor)\n",
        "print(\"Cortes: \",cortes)"
      ],
      "metadata": {
        "id": "4BcSg3Dct81M",
        "colab": {
          "base_uri": "https://localhost:8080/"
        },
        "outputId": "598f3c6c-2bbb-4ab6-9ae0-dc7d01331c4d"
      },
      "execution_count": null,
      "outputs": [
        {
          "output_type": "stream",
          "name": "stdout",
          "text": [
            "Entrada:\n",
            "n = 4\n",
            "Precios = [0, 1, 5, 8, 9]\n",
            "\n",
            "arregloValores = [0, 0, 0, 0, 0]\n",
            "\n",
            "Entrando primer for\n",
            "\n",
            "i = 1\n",
            "\n",
            "Entrando segundo for\n",
            "\n",
            "j = 1\n",
            "Valor Máximo Actual = 0\n",
            "Precios[j] = 1\n",
            "arregloValores[i 1 - j 1 ] = 0\n",
            "1 + 0 = 1\n",
            "Valor máximo es menor\n",
            "Nuevo Valor Máximo = 1\n",
            "Vm / p[i]\n",
            "1 1\n",
            "arregloValores actual = [0, 1, 0, 0, 0]\n",
            "arregloCortes actual = [0, 0, 0, 0, 0]\n",
            "\n",
            "i = 2\n",
            "\n",
            "Entrando segundo for\n",
            "\n",
            "j = 1\n",
            "Valor Máximo Actual = 0\n",
            "Precios[j] = 1\n",
            "arregloValores[i 2 - j 1 ] = 1\n",
            "1 + 1 = 2\n",
            "Valor máximo es menor\n",
            "Nuevo Valor Máximo = 2\n",
            "\n",
            "j = 2\n",
            "Valor Máximo Actual = 2\n",
            "Precios[j] = 5\n",
            "arregloValores[i 2 - j 2 ] = 0\n",
            "5 + 0 = 5\n",
            "Valor máximo es menor\n",
            "Nuevo Valor Máximo = 5\n",
            "Vm / p[i]\n",
            "5 5\n",
            "arregloValores actual = [0, 1, 5, 0, 0]\n",
            "arregloCortes actual = [0, 0, 0, 0, 0]\n",
            "\n",
            "i = 3\n",
            "\n",
            "Entrando segundo for\n",
            "\n",
            "j = 1\n",
            "Valor Máximo Actual = 0\n",
            "Precios[j] = 1\n",
            "arregloValores[i 3 - j 1 ] = 5\n",
            "1 + 5 = 6\n",
            "Valor máximo es menor\n",
            "Nuevo Valor Máximo = 6\n",
            "\n",
            "j = 2\n",
            "Valor Máximo Actual = 6\n",
            "Precios[j] = 5\n",
            "arregloValores[i 3 - j 2 ] = 1\n",
            "5 + 1 = 6\n",
            "Nuevo Valor Máximo = 6\n",
            "\n",
            "j = 3\n",
            "Valor Máximo Actual = 6\n",
            "Precios[j] = 8\n",
            "arregloValores[i 3 - j 3 ] = 0\n",
            "8 + 0 = 8\n",
            "Valor máximo es menor\n",
            "Nuevo Valor Máximo = 8\n",
            "Vm / p[i]\n",
            "8 8\n",
            "arregloValores actual = [0, 1, 5, 8, 0]\n",
            "arregloCortes actual = [0, 0, 0, 0, 0]\n",
            "\n",
            "i = 4\n",
            "\n",
            "Entrando segundo for\n",
            "\n",
            "j = 1\n",
            "Valor Máximo Actual = 0\n",
            "Precios[j] = 1\n",
            "arregloValores[i 4 - j 1 ] = 8\n",
            "1 + 8 = 9\n",
            "Valor máximo es menor\n",
            "Nuevo Valor Máximo = 9\n",
            "\n",
            "j = 2\n",
            "Valor Máximo Actual = 9\n",
            "Precios[j] = 5\n",
            "arregloValores[i 4 - j 2 ] = 5\n",
            "5 + 5 = 10\n",
            "Valor máximo es menor\n",
            "Nuevo Valor Máximo = 10\n",
            "\n",
            "j = 3\n",
            "Valor Máximo Actual = 10\n",
            "Precios[j] = 8\n",
            "arregloValores[i 4 - j 3 ] = 1\n",
            "8 + 1 = 9\n",
            "Nuevo Valor Máximo = 10\n",
            "\n",
            "j = 4\n",
            "Valor Máximo Actual = 10\n",
            "Precios[j] = 9\n",
            "arregloValores[i 4 - j 4 ] = 0\n",
            "9 + 0 = 9\n",
            "Nuevo Valor Máximo = 10\n",
            "Vm / p[i]\n",
            "10 9\n",
            "No se utiliza la varilla completa\n",
            "arregloValores actual = [0, 1, 5, 8, 10]\n",
            "arregloCortes actual = [0, 0, 0, 0, 1]\n",
            "\n",
            "Salida:\n",
            "Valor máximo 10\n",
            "Cortes:  1\n"
          ]
        }
      ]
    },
    {
      "cell_type": "markdown",
      "source": [
        "# 3. Propiedades del Algoritmo"
      ],
      "metadata": {
        "id": "C50PBxYWuFt0"
      }
    },
    {
      "cell_type": "markdown",
      "source": [
        "## 3.1. Correctitud\n",
        "\n",
        "El algoritmo CortarVarilla devuelve el valor máximo que se puede obtener cortando la varilla de largo $n$ y vendiendo las partes.\n",
        "\n",
        "## 3.1.1 Prueba del Teorema por medio de Inducción\n",
        "\n",
        "La hipótesis $T(n)$ se basa en que CortarVarilla retorna un elemento que es mayor o igual a cualquier otra combinación de cortes para el largo $n$.\n",
        "\n",
        "Caso base $n = 1$: Si $T(1)$ la función CortarVarilla retorna el valor de una varilla de largo $1$ ya que esta no puede ser cortada más.\n",
        "\n",
        "Hipotesis Inductiva: Para una varilla de largo $i$ y un arreglo $ArregloValores$ de largo $i+1$, el arreglo $ArregloValores[0..i-1]$ tiene los resultados de la mejor combinación de cortes para una varilla de largo $[0..i-1]$. \n",
        "\n",
        "Luego $CortarVarilla$ comparará los mejores resultados anteriores con el valor de venderse completa y almacenará el valor mayor en $ArregloValores[i]$.\n",
        "\n",
        "Finalmente el elemento $ArregloValores[i]$ tendrá el resultado de la mejor combinación posible para un largo de varilla $i$, por lo tanto la función CortarVarilla es correcta."
      ],
      "metadata": {
        "id": "O0UXvWWuwJLd"
      }
    },
    {
      "cell_type": "markdown",
      "source": [
        "## 3.2. Tiempo de Ejecución\n",
        "\n",
        "El tiempo de ejecución, en todos los casos, es: $O(n^2)$\n",
        "\n",
        "### Usando la fórmula de recurrencia\n",
        "La fórmula de recurrencia T(n) del algoritmo se obtiene analizando sus partes.\n",
        "\n",
        "Para el caso base $n \\leq 1$ el algoritmo solo pregunta si el largo de la varilla es menor o igual a $1$ y luego retorna los valores sin realizar ninguna recursión, por esto se obtiene que $T(n)=O(1)$ si $n \\leq 1$.\n",
        "\n",
        "Para el resto de casos se tiene:\n",
        "\n",
        "- Un ciclo for que va desde $1$ hasta $n$, por ello tiene un tiempo de ejecución de $O(n)$.\n",
        "\n",
        "- Otro ciclo for que va desde $1$ hasta $i$, donde $i$ es la variable del ciclo anterior.\n",
        "\n",
        "Juntando ambas partes se tiene que\n",
        "\n",
        "$T(n) = \\sum\\limits{j=1}^{n} j$\n",
        "\n",
        "$\\sum\\limits{j=1}^{n} j = \\frac{n(n+1)}{2}$\n",
        "\n",
        "Eliminando las constantes se tiene que:\n",
        "\n",
        "$T(n) = n^2$"
      ],
      "metadata": {
        "id": "lK-fCTjwvg4L"
      }
    },
    {
      "cell_type": "markdown",
      "source": [
        "##3.3. Complejidad espacial\n",
        "El algoritmo crea un arreglo de largo $n+1$ que almacena los resultados de los cálculos para cada largo de varilla, por ello la complejidad espacial del algoritmo es de $O(n)$. "
      ],
      "metadata": {
        "id": "EB0zR-JJ6sqY"
      }
    },
    {
      "cell_type": "markdown",
      "source": [
        "# 4. Experimentos"
      ],
      "metadata": {
        "id": "dV0s1-oEsSwY"
      }
    },
    {
      "cell_type": "markdown",
      "source": [
        "## 4.1. Cambios en implementación dinámica y recursiva cuando crece el tamaño del problema\n",
        "\n",
        "### 4.1.1. Tiempo de ejecución experimental\n",
        "\n",
        "El siguiente gráfico muestra una comparación entre el comportamiento del tiempo de ejecución del algoritmo **CortarVarilla** en su forma *recursiva* y *dinámica* en relación al tamaño de varilla, esto utilizando varillas de largo $n \\in [2,20]$ y un arreglo de precios $[3, 5, 8, 11, 12, 15, 16, 17, 18, 20, 21, 26, 28, 40, 41, 43, 45, 47, 49, 50]$."
      ],
      "metadata": {
        "id": "szW7jb-QsXem"
      }
    },
    {
      "cell_type": "code",
      "source": [
        "import matplotlib.pyplot as plt\n",
        "import datetime\n",
        "import random\n",
        "from timeit import repeat\n",
        "\n",
        "preciosExp = [0, 3, 5, 8, 11, 12, 15, 16, 17, 18, 20, 21, 26, 28, 40, 41, 43, 45, 47, 49, 50]\n",
        "\n",
        "x=[];\n",
        "yR=[];\n",
        "yD=[];\n",
        "\n",
        "for n in range(2,21):\n",
        "  x.append(n)\n",
        "  t = repeat(setup=\"from __main__ import corteVarillaRecursivo\", stmt=f\"corteVarillaRecursivo({n}, {preciosExp})\", repeat=1, number=10)\n",
        "  yR.append(t)\n",
        "  t = repeat(setup=\"from __main__ import corteVarillaDinamico\", stmt=f\"corteVarillaDinamico({n}, {preciosExp})\", repeat=1, number=10)\n",
        "  yD.append(t)\n",
        "\n",
        "\n",
        "plt.plot(x,yR)\n",
        "plt.plot(x,yD)\n",
        "plt.legend([\"Recursivo\", \"Dinamico\"])\n",
        "\n",
        "plt.xlabel('n')\n",
        "plt.ylabel('Tiempo en milisegundos')\n",
        "plt.show()"
      ],
      "metadata": {
        "colab": {
          "base_uri": "https://localhost:8080/",
          "height": 279
        },
        "id": "PUTUplANsX0U",
        "outputId": "88e79196-551b-4064-d84d-800c90639256"
      },
      "execution_count": null,
      "outputs": [
        {
          "output_type": "display_data",
          "data": {
            "text/plain": [
              "<Figure size 432x288 with 1 Axes>"
            ],
            "image/png": "[encoded data removed]"
          },
          "metadata": {
            "needs_background": "light"
          }
        }
      ]
    },
    {
      "cell_type": "markdown",
      "source": [
        "### Análisis del gráfico\n",
        "\n",
        "Del gráfico se puede ver que la implementación dinámica del algoritmo **CortarVarilla** es mucho más rápida en comparacion a la implementación recursiva\n",
        "\n",
        "Cabe notar que a diferencia de experimentos anteriores con otros algoritmos, aquí no existen los puntos altos en la gráfica o \"ruido\" que es causado normalmente debido al comportamiento impredecible de los procesadores, esto es posiblemente por lo corto que es el problema y el rango en el que se encuentra $n$, muy probablemente para rangos de $n$ mayores se empiezen a ver esos eventos."
      ],
      "metadata": {
        "id": "NpqNGJ9UBxKt"
      }
    },
    {
      "cell_type": "markdown",
      "source": [
        "## 4.2 Cantidad de problemas resueltos por el dinámico y el recursivo\n",
        "El siguiente gráfico muestra una comparación entre los tiempos de ejecución de los algoritmos **Select** (implementación propia) y **Randomized Select**."
      ],
      "metadata": {
        "id": "eSfCDQjTsYVV"
      }
    },
    {
      "cell_type": "code",
      "source": [
        "import matplotlib.pyplot as plt\n",
        "import datetime\n",
        "import random\n",
        "from timeit import repeat\n",
        "\n",
        "# CutRod recursivo ContadorProblemas SoloLadoDerecho\n",
        "def corteVarillaRecursivoContProb(n, precios, contProb = 1):\n",
        "    precioMayor = 0\n",
        "    for i in range(1, n):\n",
        "        contProb+=1\n",
        "        precioDer, contProb = corteVarillaRecursivoContProb((n-i), precios, contProb)\n",
        "        precioMayor = max(precioMayor, precios[i]+precioDer)\n",
        "    if precioMayor > precios[n]:\n",
        "        return precioMayor, contProb\n",
        "    return precios[n], contProb\n",
        "# CutRod recursivo ContProblemas Ambos Lados\n",
        "def corteVarillaRecursivoContProbAmbosLados(n, precios, contProb = 1):\n",
        "    precioMayor = 0\n",
        "    for i in range(1, n):\n",
        "        contProb+=1\n",
        "        precioIzq, contProb = corteVarillaRecursivoContProbAmbosLados(i, precios, contProb)\n",
        "        precioDer, contProb = corteVarillaRecursivoContProbAmbosLados((n-i), precios, contProb)\n",
        "        precioMayor = max(precioMayor, precioIzq + precioDer)\n",
        "    if precioMayor > precios[n]:\n",
        "        return precioMayor, contProb\n",
        "    return precios[n], contProb\n",
        "# CutRod dinámico ContadorProblemas\n",
        "def corteVarillaDinamicoContProb(n, precios):\n",
        "    arregloValores = [0 for x in range(n+1)]\n",
        "    contProb = 0\n",
        "    for i in range(1, n+1):\n",
        "        contProb+=1\n",
        "        valorMaximo = 0\n",
        "        for j in range(1, i+1):\n",
        "            valorMaximo = max(valorMaximo, (precios[j] + arregloValores[i-j]))\n",
        "        arregloValores[i] = valorMaximo\n",
        "    return arregloValores[n], contProb+1\n",
        "# Fin código\n",
        "\n",
        "preciosExp = [0, 3, 5, 8, 11, 12, 15, 16, 17, 18, 20, 21, 26, 28, 40, 41, 43, 45, 47, 49, 50]\n",
        "\n",
        "x=[];\n",
        "yR=[];\n",
        "yD=[];\n",
        "\n",
        "for n in range(2,21):\n",
        "  x.append(n)\n",
        "\n",
        "  m, contR = corteVarillaRecursivoContProb(n, preciosExp)\n",
        "  yR.append(contR)\n",
        "  m, contD = corteVarillaDinamicoContProb(n, preciosExp)\n",
        "  yD.append(contD)\n",
        "\n",
        "plt.plot(x,yR)\n",
        "plt.plot(x,yD)\n",
        "plt.legend([\"Recursivo\", \"Dinamico\"])\n",
        "\n",
        "plt.xlabel('n')\n",
        "plt.ylabel('Cantidad de Problemas Resueltos')\n",
        "plt.show()"
      ],
      "metadata": {
        "colab": {
          "base_uri": "https://localhost:8080/",
          "height": 279
        },
        "id": "gQqpRwUvsYwY",
        "outputId": "a9a6b782-0825-4651-e90d-98143d15931a"
      },
      "execution_count": null,
      "outputs": [
        {
          "output_type": "display_data",
          "data": {
            "text/plain": [
              "<Figure size 432x288 with 1 Axes>"
            ],
            "image/png": "[encoded data removed]"
          },
          "metadata": {
            "needs_background": "light"
          }
        }
      ]
    },
    {
      "cell_type": "markdown",
      "source": [
        "### Analisis del gráfico\n",
        "\n",
        "En el gráfico se aprecia que la implementación recursiva resuelve muchísimos más casos que la implementación dinámica, y si juntamos esto con el experimento del tiempo de ejecución podemos concluir que la versión dinámica es mucho mejor en comparación a la versión recursiva gracias a su menor tiempo de ejecución."
      ],
      "metadata": {
        "id": "3CNJ3ZgbCQtJ"
      }
    }
  ]
}