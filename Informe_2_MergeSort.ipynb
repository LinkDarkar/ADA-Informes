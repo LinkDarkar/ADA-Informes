{
  "nbformat": 4,
  "nbformat_minor": 0,
  "metadata": {
    "colab": {
      "name": "Informe_2_MergeSort.ipynb",
      "provenance": [],
      "collapsed_sections": []
    },
    "kernelspec": {
      "name": "python3",
      "display_name": "Python 3"
    },
    "language_info": {
      "name": "python"
    }
  },
  "cells": [
    {
      "cell_type": "markdown",
      "source": [
        "# 1. Problema de ordenamiento\n",
        "\n",
        "**Entrada**: Secuencia de n números $[a_1,a_2,...,a_n]$\n",
        "\n",
        "**Salida**: Un arreglo $[a_1',a_2',...,a_n']$ ordenado de menor a mayor, de tal manera que $a_1'\\leq a_2' \\leq... \\leq a_n'$.\n",
        "\n",
        "![image](https://i.imgur.com/MvYh5qf.png)\n",
        "\n",
        "Este algoritmo se basa en un diseño conocido como **divide y vencerás** a diferencia de otros que hay por ahí, ya que, divide el arreglo en varios subarreglos que se irán fusionando para formar subarreglos ordenados hasta acabar con el arreglo ordenado de menor a mayor."
      ],
      "metadata": {
        "id": "jT2qsbCS3Fzu"
      }
    },
    {
      "cell_type": "markdown",
      "source": [
        "# 2. MergeSort\n",
        "\n",
        "El siguiente código muestra una implementación del algoritmo **MergeSort**."
      ],
      "metadata": {
        "id": "nn1Sn60L3mrJ"
      }
    },
    {
      "cell_type": "code",
      "source": [
        "def merge(arrIzquier, b, comparaciones, verbose = False):\n",
        "    i = 0 ##indice para recorrer arrIzquier\n",
        "    j = 0 ##indice para recorrer arrDer\n",
        "    c = []\n",
        "\n",
        "    while i < len(arrIzquier) and j < len(b):\n",
        "        if verbose == True:\n",
        "          print(\"\\nComparando\", arrIzquier[i], \"y\", b[j])\n",
        "\n",
        "        comparaciones += 1\n",
        "\n",
        "        if arrIzquier[i] < b[j]:\n",
        "            c.append(arrIzquier[i])\n",
        "\n",
        "            if verbose == True: \n",
        "              print(\"Agregado valor\", arrIzquier[i], \"=>\",c)\n",
        "\n",
        "            i+=1\n",
        "\n",
        "        else:\n",
        "            c.append(b[j])\n",
        "\n",
        "            if verbose == True: \n",
        "              print(\"Agregado valor\", b[j], \"=>\",c)\n",
        "\n",
        "            j+=1\n",
        "\n",
        "\n",
        "    if verbose == True:\n",
        "      print(\"Agregando el resto de valores.\")\n",
        "    while i < len(arrIzquier):\n",
        "        c.append(arrIzquier[i])\n",
        "        i+=1\n",
        "        comparaciones += 1\n",
        "\n",
        "    while j < len(b):\n",
        "        c.append(b[j])\n",
        "        j+=1\n",
        "        comparaciones += 1\n",
        "    \n",
        "    if verbose == True:\n",
        "      print(\"Arreglo ordenado:\",c,\"\\n\")\n",
        "\n",
        "    return c, comparaciones\n",
        "\n",
        "# MergeSort Code\n",
        "def merge_sort(arr, recursiones = 0, comparaciones = 0, verbose = False):\n",
        "    arrIzq = []\n",
        "    arrDer = []\n",
        "    if verbose == True: print(\"\\nContador de Recursiones: \", recursiones)\n",
        "    if verbose == True: print(\"Arreglo de entrada:\", arr)\n",
        "\n",
        "    if len(arr) == 1:\n",
        "        if verbose == True: print(\"Arreglo es de largo 1\")\n",
        "        return arr, recursiones, comparaciones #El arreglo sólo tiene un elemento\n",
        "\n",
        "    x = (int)((len(arr))/2) #El índice de la mitad del arreglo\n",
        "\n",
        "    if verbose == True:\n",
        "      print(\"Indice de la mitad:\", x)\n",
        "    if verbose == True:\n",
        "      print(\"Dividiendo arreglo\")\n",
        "\n",
        "    if verbose == True:\n",
        "      print(\"\\nOrdenando izquierda:\", arr[0:x])\n",
        "    recursiones += 1\n",
        "    arrIzq, recursiones, comparaciones = merge_sort(arr[0:x], recursiones, comparaciones, verbose) #Ordena la parte izquierda del arreglo\n",
        "\n",
        "    if verbose == True:\n",
        "      print(\"\\nOrdenando derecha:\", arr[x:len(arr)])\n",
        "    recursiones += 1\n",
        "    arrDer, recursiones, comparaciones = merge_sort(arr[x:len(arr)], recursiones, comparaciones, verbose) #Ordena la parte derecha del arreglo\n",
        "\n",
        "    if verbose == True:\n",
        "      print(\"\\nJuntando\", arrIzq, \"con\", arrDer)\n",
        "    arr, comparaciones = merge(arrIzq, arrDer, comparaciones, verbose) #Combina y ordena ambos subarreglos ordenados\n",
        "\n",
        "    return arr, recursiones, comparaciones\n",
        "\n",
        "\n",
        "a = [38,27,43,3,9,82,10]\n",
        "recursiones = 0\n",
        "comparaciones = 0\n",
        "print(\"Entrada: \",a)\n",
        "a, recursiones, comparaciones = merge_sort(a, recursiones, comparaciones, False)\n",
        "print(\"Salida: \",a)\n",
        "print(\"Número de Recursiones:\", recursiones)\n",
        "print(\"Número de Comparaciones:\", comparaciones)"
      ],
      "metadata": {
        "id": "DlcJBgl1oMiy",
        "colab": {
          "base_uri": "https://localhost:8080/"
        },
        "outputId": "d23370bd-ead5-440e-905d-d82f0642c915"
      },
      "execution_count": 50,
      "outputs": [
        {
          "output_type": "stream",
          "name": "stdout",
          "text": [
            "Entrada:  [38, 27, 43, 3, 9, 82, 10]\n",
            "Salida:  [3, 9, 10, 27, 38, 43, 82]\n",
            "Número de Recursiones: 12\n",
            "Número de Comparaciones: 20\n"
          ]
        }
      ]
    },
    {
      "cell_type": "markdown",
      "source": [
        "## 2.2. Descripción del algoritmo\n",
        "Este algoritmo consiste en la división del arreglo en partes cada vez más pequeñas para cumplir su objetivo.\n",
        "\n",
        "El Merge Sort también utiliza la función Merge, que recibe como entrada 4 parámetros, \"A\", \"p\", \"q\" y \"r\". Aquí, \"p\", \"q\" y \"r\" son índices y \"A\" es el arreglo que queremos ordenar. Esta función asume que los subarreglos $A[p...q]$ y $A[q+1...r]$ vienen ordenados y los combina para acabar con un sólo arreglo ordenado.\n",
        "\n",
        "Por lo que el MergeSort funcionaría de la siguiente manera:\n",
        "\n",
        "1. Cuando entra en la función se obtiene el elemento medio del arreglo, y una vez obtenido, se llama a la misma función para repetir el proceso con los subarreglos de la izquierda y la derecha del arreglo.\n",
        "\n",
        "2. Si el subarreglo que se está viendo es de un solo elemento el MergeSort se acaba y se pasa al Merge.\n",
        "\n",
        "3. Como todos los subarreglos con los que quedamos son de un elemento, el Merge empieza a juntarlos ordenadamente acabando con un arreglo ordenado.\n",
        "\n",
        "![image]()\n",
        "\n",
        "Cuando la variable `verbose` es `True` se muestra información para ver lo que pasa paso a paso dentro de la función."
      ],
      "metadata": {
        "id": "XHIw15F97CnZ"
      }
    },
    {
      "cell_type": "markdown",
      "source": [
        "## 2.3. Ejemplo\n",
        "\n",
        "Consideremos, por ejemplo, un arreglo de 7 elementos:\n",
        "\n",
        "$a=[38,27,43,3,9,82,10]$\n",
        "\n",
        "Dividimos el arreglo en uno de 4 y 3 elementos\n",
        "\n",
        "[38,27,43,3] || [9,82,10]\n",
        "\n",
        "Seguimos dividiendo de la misma manera hasta que ya no se pueda más, y acabamos con esto:\n",
        "\n",
        "[38,27] | [43,3] | [9,82] | [10]\n",
        "\n",
        "[38] | [27] || [43] | [3] || [9] | [82] || [10]\n",
        "\n",
        "Una vez que llegamos al tamaño más pequeño que pueden tener los subarreglos, empezamos a usar el Merge para juntarlos de forma ordenada:\n",
        "\n",
        "[27,38] || [3,43] ||| [9,82] || [10]\n",
        "\n",
        "[3,27,38,43] | [9,10,82]\n",
        "\n",
        "[3,9,10,27,38,43,82]\n",
        "\n",
        "Y ya tenemos el arreglo ordenado."
      ],
      "metadata": {
        "id": "o0BhPA6mio_M"
      }
    },
    {
      "cell_type": "markdown",
      "source": [
        "## 2.4. Ejecución del Algoritmo Paso a Paso (verbose = True)\n",
        "\n",
        "Al utilizar la opción `verbose=True` se puede ver paso a paso lo que le ocurre al arreglo en cada iteración del algoritmo."
      ],
      "metadata": {
        "id": "Z3e3WZx4Au9n"
      }
    },
    {
      "cell_type": "code",
      "source": [
        "a = [38,27,43,3,9,82,10]\n",
        "recursiones = 0\n",
        "counter = 0\n",
        "print(\"Entrada: \",a)\n",
        "a, recursiones, counter = merge_sort(a, recursiones, counter,True)\n",
        "print(\"\\nSalida: \",a)\n",
        "print(\"Número de comparaciones:\", counter)"
      ],
      "metadata": {
        "colab": {
          "base_uri": "https://localhost:8080/"
        },
        "id": "_2TXYcAzAj-P",
        "outputId": "bebe2932-6761-4e5d-d874-636713dda793"
      },
      "execution_count": 59,
      "outputs": [
        {
          "output_type": "stream",
          "name": "stdout",
          "text": [
            "Entrada:  [38, 27, 43, 3, 9, 82, 10]\n",
            "\n",
            "Contador de Recursiones:  0\n",
            "Arreglo de entrada: [38, 27, 43, 3, 9, 82, 10]\n",
            "Indice de la mitad: 3\n",
            "Dividiendo arreglo\n",
            "\n",
            "Ordenando izquierda: [38, 27, 43]\n",
            "\n",
            "Contador de Recursiones:  1\n",
            "Arreglo de entrada: [38, 27, 43]\n",
            "Indice de la mitad: 1\n",
            "Dividiendo arreglo\n",
            "\n",
            "Ordenando izquierda: [38]\n",
            "\n",
            "Contador de Recursiones:  2\n",
            "Arreglo de entrada: [38]\n",
            "Arreglo es de largo 1\n",
            "\n",
            "Ordenando derecha: [27, 43]\n",
            "\n",
            "Contador de Recursiones:  3\n",
            "Arreglo de entrada: [27, 43]\n",
            "Indice de la mitad: 1\n",
            "Dividiendo arreglo\n",
            "\n",
            "Ordenando izquierda: [27]\n",
            "\n",
            "Contador de Recursiones:  4\n",
            "Arreglo de entrada: [27]\n",
            "Arreglo es de largo 1\n",
            "\n",
            "Ordenando derecha: [43]\n",
            "\n",
            "Contador de Recursiones:  5\n",
            "Arreglo de entrada: [43]\n",
            "Arreglo es de largo 1\n",
            "\n",
            "Juntando [27] con [43]\n",
            "\n",
            "Comparando 27 y 43\n",
            "Agregado valor 27 => [27]\n",
            "Agregando el resto de valores.\n",
            "Arreglo ordenado: [27, 43] \n",
            "\n",
            "\n",
            "Juntando [38] con [27, 43]\n",
            "\n",
            "Comparando 38 y 27\n",
            "Agregado valor 27 => [27]\n",
            "\n",
            "Comparando 38 y 43\n",
            "Agregado valor 38 => [27, 38]\n",
            "Agregando el resto de valores.\n",
            "Arreglo ordenado: [27, 38, 43] \n",
            "\n",
            "\n",
            "Ordenando derecha: [3, 9, 82, 10]\n",
            "\n",
            "Contador de Recursiones:  6\n",
            "Arreglo de entrada: [3, 9, 82, 10]\n",
            "Indice de la mitad: 2\n",
            "Dividiendo arreglo\n",
            "\n",
            "Ordenando izquierda: [3, 9]\n",
            "\n",
            "Contador de Recursiones:  7\n",
            "Arreglo de entrada: [3, 9]\n",
            "Indice de la mitad: 1\n",
            "Dividiendo arreglo\n",
            "\n",
            "Ordenando izquierda: [3]\n",
            "\n",
            "Contador de Recursiones:  8\n",
            "Arreglo de entrada: [3]\n",
            "Arreglo es de largo 1\n",
            "\n",
            "Ordenando derecha: [9]\n",
            "\n",
            "Contador de Recursiones:  9\n",
            "Arreglo de entrada: [9]\n",
            "Arreglo es de largo 1\n",
            "\n",
            "Juntando [3] con [9]\n",
            "\n",
            "Comparando 3 y 9\n",
            "Agregado valor 3 => [3]\n",
            "Agregando el resto de valores.\n",
            "Arreglo ordenado: [3, 9] \n",
            "\n",
            "\n",
            "Ordenando derecha: [82, 10]\n",
            "\n",
            "Contador de Recursiones:  10\n",
            "Arreglo de entrada: [82, 10]\n",
            "Indice de la mitad: 1\n",
            "Dividiendo arreglo\n",
            "\n",
            "Ordenando izquierda: [82]\n",
            "\n",
            "Contador de Recursiones:  11\n",
            "Arreglo de entrada: [82]\n",
            "Arreglo es de largo 1\n",
            "\n",
            "Ordenando derecha: [10]\n",
            "\n",
            "Contador de Recursiones:  12\n",
            "Arreglo de entrada: [10]\n",
            "Arreglo es de largo 1\n",
            "\n",
            "Juntando [82] con [10]\n",
            "\n",
            "Comparando 82 y 10\n",
            "Agregado valor 10 => [10]\n",
            "Agregando el resto de valores.\n",
            "Arreglo ordenado: [10, 82] \n",
            "\n",
            "\n",
            "Juntando [3, 9] con [10, 82]\n",
            "\n",
            "Comparando 3 y 10\n",
            "Agregado valor 3 => [3]\n",
            "\n",
            "Comparando 9 y 10\n",
            "Agregado valor 9 => [3, 9]\n",
            "Agregando el resto de valores.\n",
            "Arreglo ordenado: [3, 9, 10, 82] \n",
            "\n",
            "\n",
            "Juntando [27, 38, 43] con [3, 9, 10, 82]\n",
            "\n",
            "Comparando 27 y 3\n",
            "Agregado valor 3 => [3]\n",
            "\n",
            "Comparando 27 y 9\n",
            "Agregado valor 9 => [3, 9]\n",
            "\n",
            "Comparando 27 y 10\n",
            "Agregado valor 10 => [3, 9, 10]\n",
            "\n",
            "Comparando 27 y 82\n",
            "Agregado valor 27 => [3, 9, 10, 27]\n",
            "\n",
            "Comparando 38 y 82\n",
            "Agregado valor 38 => [3, 9, 10, 27, 38]\n",
            "\n",
            "Comparando 43 y 82\n",
            "Agregado valor 43 => [3, 9, 10, 27, 38, 43]\n",
            "Agregando el resto de valores.\n",
            "Arreglo ordenado: [3, 9, 10, 27, 38, 43, 82] \n",
            "\n",
            "\n",
            "Salida:  [3, 9, 10, 27, 38, 43, 82]\n",
            "Número de comparaciones: 20\n"
          ]
        }
      ]
    },
    {
      "cell_type": "markdown",
      "source": [
        "# 3. Correctitud\n",
        "\n",
        "\n",
        "## 3.1. Teorema (Correctitud)\n",
        "\n",
        "El algoritmo **Merge** genera un arreglo: $[a_1',a_2',...,a_n']$, con los mismos elementos de los subarreglos de entrada ordenados de menor a mayor, es decir, $a_1'\\leq a_2' \\leq... \\leq a_n'$.\n",
        "\n",
        "## 3.2. Prueba del Teorema\n",
        "\n",
        "El merge obtiene el largo del subarreglo $A[p..q]$ y $A[q+1..r]$ y crea arreglos L y R (que contendrán los lados izquierdos y derechos respectivamente) para el lado izquierdo y derecho del arreglo de largo $n_1 + 1$ y $n_2 + 1$ respectivamente. Los elementos del arreglo A que correspondan se copiarán dentro de estos dos subarreglos y luego estos se fusionarán de forma que el arreglo resultante esté ordenado comparando los elementos de los subarreglos que correspondan\n",
        "\n",
        "> Al comienzo de cada iteración el subarreglo $A[p .. k-1]$ contiene los $k - p$ elementos más pequeños de $L[1 .. n_1 + 1]$ y $R[1 .. n_2 + 1]$ de forma ordenada. Por lo que L[i] y R[j] serían los elementos más pequeños de dichos arreglos que no han sido copiados en A.\n",
        "\n",
        "### Inicialización\n",
        "\n",
        "Antes de la primera iteración del ciclo los primeros elementos de los subarreglos L y R corresponden a los menores elementos de los arreglos en los que se encuentran que no han sido copiados en el arreglo final.\n",
        "\n",
        "\n",
        "### Mantención\n",
        "\n",
        "Para que cada iteración mantenga la invariante de bucle, se comparan los elementos seleccionados de los arreglo L y R que corresponderían a L[i] y R[j]. Supongamos que en este caso L[i] < R[j], en tal caso, L[i] se copia en A[k] (k siendo la posición actual a la que correspondería el elemento), luego el valor de \"i\" y \"k\" aumenta en 1, para reestablecer la invariante de ciclo para la siguiente iteración. En el caso de que R[j] < L[i] se repetiría el proceso, pero adaptado para el lado que corresponde para mantener invariante de ciclo.\n",
        "\n",
        "### Correctitud\n",
        "\n",
        "Al final los dos subarreglos deberían estar copiados en el arreglo A de forma que sus elementos estén ordenados de menor a mayor.\n",
        "\n",
        "\n",
        "\n",
        "\n",
        "### 3.3 Inducción para la correctitud del MergeSort\n",
        "La hipótesis $P(n)$ se basa en que Merge Sort retorna un arreglo de $n$ elementos ordenados de menor a mayor.\n",
        "\n",
        "### Caso base $n = 1$\n",
        "Si $P(1)$ la función MergeSort retorna un sólo elemento, por lo que se cumpliría la condición,\n",
        "\n",
        "### Paso inductivo\n",
        "Ahora hay que probar que si $P(m)$ es verdadero para $m < n$, entonces lo será también para $P(n)$.\n",
        "\n",
        "Si tenemos un arreglo de n elementos, el algoritmo partirá ese arreglo en $m_1 = [n/2]$ y $m_2 = [n/2]$ y los ordenará usando MergeSort. Luego podemos asumir que los arreglos serán ordenados correctamente.\n",
        "\n",
        "Luego los arreglos serán fusionados con la función merge. Que según lo mencionado anteriormente retornará la combinación de los arreglos con los elementos ordenados de menor a mayor. Por lo tanto MergeSort es correcto."
      ],
      "metadata": {
        "id": "ADqI1_F0E2km"
      }
    },
    {
      "cell_type": "markdown",
      "source": [
        "# 4. Tiempo de ejecución\n",
        "\n",
        "### **Teorema (Tiempo de ejecución).**\n",
        "\n",
        "*El algoritmo **MergeSort** tiene un **tiempo de ejecución de** $O(nlog(n))$ todos los casos.*\n",
        "\n",
        "## Prueba del teorema \n",
        "\n",
        "Antes de acudir al árbol de recurrencia, primero debemos sacar la fórmula de recurrencia del algoritmo.\n",
        "\n",
        "### Fórmula de recurrencia\n",
        "Para facilitarnos las cosas, asumiremos que $n$ (el tamaño del problema) es potencia de 2. Ahora:\n",
        ">MergeSort divide cada problema en $a = 2$, hasta que no pueda más. Por lo que tardará $2T(n/2)$ en resolver los subproblemas.\n",
        "\n",
        ">Para dividir los arreglos en 2 el algoritmo se tarda $O(1)$ que es constante de tiempo\n",
        "\n",
        ">La complejidad de la función merge es lineal, por tanto sería $O(n)$\n",
        "\n",
        "Por lo tanto la fórmula de recurrencia sería:\n",
        "$T(n) = 2T(n/2) + O(n)$\n",
        "\n",
        "### Árbol de recurrencia\n",
        "Ahora que tenemos la fórmula de recurrencia, podemos usar el árbol para obtener la complejidad.\n",
        "\n",
        "El árbol irá subdividiendo cada paso $T(n)$ recursivamente en sus componentes, o sea $T(n) = 2T(n/2) + n$.\n",
        "\n",
        "![image](https://i.imgur.com/Hb6SguM.png)"
      ],
      "metadata": {
        "id": "HkeWKo3nD3_2"
      }
    },
    {
      "cell_type": "code",
      "source": [
        "a = [8,6,2,9,3]\n",
        "counter = 0\n",
        "counter2 = 0\n",
        "print(\"Entrada: \",a)\n",
        "a, counter, counter2 = merge_sort(a, counter, counter2, True)\n",
        "print(\"\\nSalida: \",a)\n",
        "print(\"Número de Recursiones:\", counter)"
      ],
      "metadata": {
        "id": "XnLauQphD3tS"
      },
      "execution_count": null,
      "outputs": []
    },
    {
      "cell_type": "markdown",
      "source": [
        "# 5. Experimentos\n",
        "\n",
        "## 5.1. Número de movimientos\n",
        "\n",
        "La gráfica de acontinuación muestra una comparación entre:\n",
        "\n",
        "* la cantidad de movimientos realizados en el peor caso calculadas matemáticamente,\n",
        "* la cantidad de movimientos realizados en el mejor caso calculadas matemáticamente\n",
        "* y la cantidad de movimientos realizados en casos de prueba realizados con entradas aleatorias\n",
        "\n",
        "para problemas con arreglos de entrada de largo $n \\in [5,20]$ en los cuales el valor de los elementos es elejido aleatoriamente desde un conjunto de números entre 1 y 100."
      ],
      "metadata": {
        "id": "owej6N7EYuD1"
      }
    },
    {
      "cell_type": "code",
      "source": [
        "import matplotlib.pyplot as plt\n",
        "import math\n",
        "import random\n",
        "\n",
        "asd = 0\n",
        "\n",
        "x=[n for n in range(5,21)]\n",
        "# Peor Caso\n",
        "y1=[n * math.log2(n) for n in range(5,21)]\n",
        "# Mejor caso\n",
        "y2=[n * math.log2(n) for n in range(5,21)]\n",
        "# Muestras\n",
        "y=[]; \n",
        "counter = 0\n",
        "\n",
        "for n in range(5,21):\n",
        "  a = random.sample(range(1, 100), n)\n",
        "  counter = 0\n",
        "  a, asd, counter = merge_sort(a, counter, False)\n",
        "  y.append(counter)\n",
        "\n",
        "plt.plot(x,y)\n",
        "plt.plot(x,y1)\n",
        "plt.plot(x,y2)\n",
        "plt.legend([\"MergeSort\", \"Peor caso\", \"Mejor caso\"])\n",
        "\n",
        "plt.xlabel('Largo del arreglo')\n",
        "plt.ylabel('Número de comparaciones')\n",
        "plt.show()"
      ],
      "metadata": {
        "colab": {
          "base_uri": "https://localhost:8080/",
          "height": 279
        },
        "id": "n6spA0IZF6gU",
        "outputId": "b553df26-465e-4c9d-fe76-f4a50d60b7ed"
      },
      "execution_count": 55,
      "outputs": [
        {
          "output_type": "display_data",
          "data": {
            "text/plain": [
              "<Figure size 432x288 with 1 Axes>"
            ],
            "image/png": "[encoded data removed]"
          },
          "metadata": {
            "needs_background": "light"
          }
        }
      ]
    },
    {
      "cell_type": "markdown",
      "source": [
        "### Análisis del gráfico\n",
        "\n",
        "Este gráfico ocurre de esta manera, en parte porque se considera como comparación no solo a cuando se compara directamente un elemento con el otro, sino que también a cada vez que un elemento se ingresa en el arreglo. Luego, como la complejidad del MergeSort es $nLog_2(n)$ en cualquier caso, se coloca eso para el mejor y peor caso, dando el resultado que se muestra por pantalla."
      ],
      "metadata": {
        "id": "H7SJBmv5aO_u"
      }
    },
    {
      "cell_type": "markdown",
      "source": [
        "# 6.3. Comparación de tiempo de ejecución de MergeSort con InsertSort\n",
        "\n",
        "El siguiente gráfico muestra una comparación entre los tiempos de ejecución de los algoritmos **MergeSort** e **InsertSort**.\n"
      ],
      "metadata": {
        "id": "kZyYQSvRdXVh"
      }
    },
    {
      "cell_type": "code",
      "source": [
        "import datetime\n",
        "import random\n",
        "from timeit import repeat\n",
        "\n",
        "# Código para bubblesort\n",
        "def insert_sort(arr, verbose=False):\n",
        "    counter = 0\n",
        "    lenght = len(arr)\n",
        "\n",
        "    if verbose == True: \n",
        "      print(\"input array:\", arr)\n",
        "\n",
        "    for i in range(1,lenght):\n",
        "        c = i\n",
        "        if verbose == True: \n",
        "          print(\"\\nIteración\",i)\n",
        "        while arr[c] < arr[c-1] and c > 0:\n",
        "            counter+=1\n",
        "            arr[c], arr[c-1] = arr[c-1], arr[c]\n",
        "            c-=1\n",
        "            if verbose == True: \n",
        "              print(\"\\n\",arr)\n",
        "        if verbose == True: \n",
        "          print(\"\\nFin de la iteración\",i)\n",
        "# Fin del código de bubblesort\n",
        "\n",
        "x=[];\n",
        "y=[];\n",
        "yb=[];\n",
        "\n",
        "for n in range(5,501):\n",
        "  a = random.sample(range(1, 1000), n)\n",
        "  x.append(n)\n",
        "\n",
        "  #la función repeat está ejecutando 20 veces insert_sort con el arreglo a y retorna el mejor tiempo obtenido.\n",
        "  t = repeat(setup=\"from __main__ import merge_sort\", stmt=f\"merge_sort({a})\", repeat=1, number=10)\n",
        "  y.append(t)\n",
        "  t = repeat(setup=\"from __main__ import insert_sort\", stmt=f\"insert_sort({a})\", repeat=1, number=10)\n",
        "  yb.append(t)\n",
        "\n",
        "plt.plot(x,y)\n",
        "plt.plot(x,yb)\n",
        "plt.legend([\"MergeSort\", \"InsertSort\"])\n",
        "\n",
        "plt.xlabel('n')\n",
        "plt.ylabel('Tiempo en milisegundos')\n",
        "plt.show()"
      ],
      "metadata": {
        "colab": {
          "base_uri": "https://localhost:8080/",
          "height": 280
        },
        "id": "oLVgTAHHGvl2",
        "outputId": "559acddd-c8ca-4998-b3f1-a31a38256973"
      },
      "execution_count": 60,
      "outputs": [
        {
          "output_type": "display_data",
          "data": {
            "text/plain": [
              "<Figure size 432x288 with 1 Axes>"
            ],
            "image/png": "[encoded data removed]"
          },
          "metadata": {
            "needs_background": "light"
          }
        }
      ]
    },
    {
      "cell_type": "markdown",
      "source": [
        "### Analisis del gráfico\n",
        "\n",
        "En el gráfico se puede apreciar que el algoritmo **MergeSort** tiene un menor tiempo de ejecución promedio en comparación a **InsertSort**, y esta diferencia se hace cada vez mayor, lo que significa que el algotirmo **MergeSort** es mejor mientras más grande sea el arreglo de entrada. Y es más debido a lo poco que tiende a variar el tiempo del MergeSort en comparación con el InsertionSort, el primero podría ser una solución mucho más consistente para el ordenamiento de elementos en un arreglo."
      ],
      "metadata": {
        "id": "hoqin5fbdeGH"
      }
    }
  ]
}