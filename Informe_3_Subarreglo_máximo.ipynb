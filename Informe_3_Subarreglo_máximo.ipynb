{
  "nbformat": 4,
  "nbformat_minor": 0,
  "metadata": {
    "colab": {
      "name": "Informe-3-Subarreglo_máximo.ipynb",
      "provenance": [],
      "collapsed_sections": []
    },
    "kernelspec": {
      "name": "python3",
      "display_name": "Python 3"
    },
    "language_info": {
      "name": "python"
    }
  },
  "cells": [
    {
      "cell_type": "markdown",
      "source": [
        "# 1. Problema del sub-arreglo máximo\n",
        "Consiste en que, teniendo un arreglo de N elementos, descubrir el subarreglo contiguo en el que la suma de sus elementos de el valor más alto.\n",
        "\n",
        "Un ejemplo de su uso, es que, asumiendo que sabemos lo que pasará en el futuro, saber cuál es el mejor momento para comparar y vender acciones de una empresa, debido a su cambio de valor.\n",
        "\n",
        "Por lo tanto:\n",
        "**Entrada**: arreglo de n elementos $[a_1,a_2,...,a_n]$.\n",
        "\n",
        "**Salida**: Sub-arreglo $[a_i,...,aj]$, tal que la suma de los elementos es mayor o igual a cualquier otro sub-arreglo, es decir, $\\sum\\limits{k=i}^j ak \\geq \\sum\\limits{k=i'}^{j'} a_k$ , para cualquier par $(i',j')$, con $i' \\leq j'\\leq n$."
      ],
      "metadata": {
        "id": "YZz8bCHPk6os"
      }
    },
    {
      "cell_type": "markdown",
      "source": [
        "# 2.1 Código"
      ],
      "metadata": {
        "id": "I5yMocUplbP_"
      }
    },
    {
      "cell_type": "code",
      "execution_count": 27,
      "metadata": {
        "colab": {
          "base_uri": "https://localhost:8080/"
        },
        "id": "zJ3F92IqkyEw",
        "outputId": "74892f39-017c-49da-b7a8-d646dd999929"
      },
      "outputs": [
        {
          "output_type": "stream",
          "name": "stdout",
          "text": [
            "la suma final es de:  5\n",
            "las posiciones que se sacaron son:  0  y  2\n",
            "el arreglo final es:  [3, -2, 4]\n",
            "se hicieron 6 recursiones\n"
          ]
        }
      ],
      "source": [
        "#implementar función MaxSubArrayMid\n",
        "#Esta función encuentra el sub-arreglo máximo de un arreglo que contenga el elemento mid.\n",
        "#recordar incluir verbose\n",
        "\n",
        "def MaxSubArray (arr , low , high , recursiones = 0, verbose = False):\n",
        "  if verbose == True:\n",
        "    print(\"Cantidad de Recursiones: \", recursiones)\n",
        "    print(\"Low actual: \", low, \"\\nHigh actual: \", high)\n",
        "    print(\"Arreglo de entrada: \", arr[low:(high+1)])\n",
        "\n",
        "  if low == high:\n",
        "      if verbose == True:\n",
        "        print(\"Arreglo es de largo 1\")\n",
        "\n",
        "      return arr[low], recursiones, low, high\n",
        "\n",
        "\n",
        "  #Se saca la mitad del arreglo, como las posiciones funcionan en base a enteros se usa el (int)\n",
        "  mid = (int)((high + low)/2)\n",
        "  if verbose == True:\n",
        "    print(\"mid = \", mid)\n",
        "\n",
        "  #Se revisa el lado izquierdo del arreglo y se le suma en uno a la cantidad de recursiones\n",
        "  recursiones += 1\n",
        "  izqLow = izqHigh = 0\n",
        "  if verbose == True:\n",
        "    print(\"\\nRevisando lado izquierdo del arreglo\")\n",
        "  sumLeft, recursiones, izqLow, izqHigh = MaxSubArray(arr, low, mid, recursiones, verbose)\n",
        "  #se sacan los índices del subarreglo del lado izquierdo\n",
        "  if verbose == True:\n",
        "    print(\"La suma del lado izquierdo es: \", sumLeft)\n",
        "\n",
        "  #Se revisa el lado derecho del arreglo y se le suma en uno a la cantidad de recursiones\n",
        "  recursiones += 1\n",
        "  if verbose == True:\n",
        "    print(\"\\nRevisando lado derecho del arreglo\")\n",
        "  derLow = derHigh = 0\n",
        "  sumRight, recursiones, derLow, derHigh = MaxSubArray(arr, mid+1, high, recursiones, verbose)\n",
        "  #se sacan los índices del subarreglo del lado derecho\n",
        "  if verbose == True:\n",
        "    print(\"Right =\", sumRight)\n",
        "\n",
        "  #Se obtiene el subarreglo que contenga a los elementos de en medio con la suma más alta posible\n",
        "  #junto con sus índices correspondientes\n",
        "  sumMid, midLow, midHigh = MaxSubArrayMid(arr, low, mid, high, verbose)\n",
        "\n",
        "  # Return\n",
        "  if sumLeft > sumRight and sumLeft > sumMid:\n",
        "    return sumLeft, recursiones, izqLow, izqHigh\n",
        "\n",
        "  elif sumRight > sumLeft and sumRight > sumMid:\n",
        "    return sumRight, recursiones, derLow, derHigh\n",
        "\n",
        "  else:\n",
        "    if verbose == True:\n",
        "      print(\"se retorna : \",sumMid,midLow,midHigh)\n",
        "    return sumMid, recursiones, midLow, midHigh\n",
        "  return\n",
        "\n",
        "\n",
        "def MaxSubArrayMid (arr , low , mid , high , verbose = False):\n",
        "  #se declaran las variables que marcarán el inicio y el final del subarreglo\n",
        "\n",
        "  #lado izquierdo\n",
        "  #Se revisa cuál es la suma más grande posible yendo desde la mitad hacia la izquierda\n",
        "  sumaIzquierdaFinal = arr[mid]\n",
        "  sumaActualIzq = 0\n",
        "  finalLow = mid\n",
        "\n",
        "  #if verbose == True:\n",
        "    #print(\"suma izquierda = \", sumaActualIzq)\n",
        "    #print(\"sumaIzquierdaFinal = \", sumaIzquierdaFinal)\n",
        "  for i in range(mid, low-1, -1):\n",
        "      sumaActualIzq += arr[i]\n",
        "      if (sumaActualIzq > sumaIzquierdaFinal):\n",
        "        sumaIzquierdaFinal = sumaActualIzq\n",
        "        finalLow = i\n",
        "  \n",
        "  if verbose == True:\n",
        "    print(\"La suma del lado izquierdo = \", sumaIzquierdaFinal)\n",
        "    print(\"La posición en la que empezará el subarreglo es = \", finalLow)\n",
        "\n",
        "\n",
        "  #lado derecho\n",
        "  #se sigue la misma idea que con el lado izquierdo\n",
        "  sumaDerechaFinal = arr[mid + 1]\n",
        "  sumaActualDer = 0\n",
        "  finalHigh = mid + 1\n",
        "\n",
        "  #if verbose == True:\n",
        "    #print(\"\\nsuma derecha = \", sumaActualDer)\n",
        "\n",
        "  for j in range(mid + 1, high + 1, +1):\n",
        "      sumaActualDer += arr[j]\n",
        "      if (sumaActualDer > sumaDerechaFinal):\n",
        "        sumaDerechaFinal = sumaActualDer\n",
        "        finalHigh = j\n",
        "\n",
        "  #print(\"se suman: \", sumaIzquierdaFinal, sumaDerechaFinal)\n",
        "  middle = sumaIzquierdaFinal + sumaDerechaFinal\n",
        "  #print(\"el resultado final de la funcion maxsubarraymid es: \", middle)\n",
        "\n",
        "  return middle, finalLow, finalHigh\n",
        "   \n",
        "  \n",
        "arr = [3,-2,4,-5]\n",
        "sumFinal = recursiones = 0\n",
        "a = b = 0\n",
        "sumFinal, recursiones,a,b = MaxSubArray (arr, 0, len(arr)-1, recursiones, False)\n",
        "print(\"la suma final es de: \", sumFinal)\n",
        "print(\"las posiciones que se sacaron son: \",a,\" y \", b)\n",
        "print(\"el arreglo final es: \", arr[a:b+1])\n",
        "print(\"se hicieron\", recursiones,\"recursiones\")"
      ]
    },
    {
      "cell_type": "markdown",
      "source": [
        "# 2.1 Descripción del algoritmo\n",
        "Explicar las entradas y salidas esperadas\n",
        "hacer referencia a las partes más importantes del\n",
        "código\n",
        "\n",
        "Se reciben como entradas el arreglo (arr), las posiciones de inicio (low) y final (high) de este y la cantidad de recursiones.\n",
        "\n",
        "Pasos que sigue el algoritmo:\n",
        "\n",
        "1. Revisa si el algoritmo es de largo 1, en caso de ser así retorna, el elemento que tenga, junto con las posiciones que le corresponden y el contador de recursiones.\n",
        "\n",
        "2. En caso de no ser así, se llamará a si misma para repetir el proceso con el lado izquierdo y derecho del arreglo.\n",
        "\n",
        "3. Luego llama a la función MaxSubArrayMid para buscar el subarreglo que dé la mayor suma y que pase por el centro del arreglo (o subarreglo en caso de que esté operando bajo una de las recursiones).\n",
        "\n",
        "4. Una vez que se ha encontrado el subarreglo que queríamos la función retorna la suma de los elementos, el contador de recursiones y las posiciones que forman el subarreglo."
      ],
      "metadata": {
        "id": "T5gceiOvm5Dm"
      }
    },
    {
      "cell_type": "markdown",
      "source": [
        "#2.2 Ejemplo\n",
        "\n",
        "Consideremos el arreglo: $a = [3,-2,4,-5]$\n",
        "\n",
        "Primero se revisa si el arreglo es de largo 1, al no ser así se pasa a los pasos siguientes.\n",
        "\n",
        "Ahora la función se llamará a sí misma para revisar las partes izquierdas y derechas del arreglo, que llamaremos ramaIzquierda y ramaDerecha.\n",
        "#ramaIzquierda\n",
        "Para la ramaIzquierda, se llamará a la funcion maxSubArray para el subarreglo $[3,-2]$. Como su largo es mayor a 1, se vuelve a llamar a la función maxSubArray para los lados izquierdos y derechos de este subarreglo, como en ambos casos los subarreglos son de largo 1, la función retornará los subarreglos $[3]$ y $[-2]$\n",
        "\n",
        "Ahora que se terminó de llamar a los dos **MaxSubArray** para ambos lados, buscaremos el subarreglo que contenga la suma más grande y que contenga al centro del arreglo.\n",
        "\n",
        "Y al recorrer la parte izquierda tenemos $[3]$ y en la parte derecha tenemos $[-2]$ y como esta es nuestra única opción, tenemos que la suma más grande que un subarreglo puede tener incluyendo el centro es de $1$.\n",
        "\n",
        "Luego comparamos los tres resultados y al final tenemos que la suma mayor de la rama izquierda del arreglo mayor es 3.\n",
        "\n",
        "#ramaDerecha\n",
        "Se repite el mismo proceso que con la anterior, llamamos a la función **maxSubArray** para los subarreglos $[4]$ y $[-5]$ y como estos son de largo 1, los retorna.\n",
        "\n",
        "Una vez que terminamos con eso buscamos nuevamente al subarreglo que de la suma más alta y contenga al centro, y nos da que ese sería el $[4,-5]$ con una suma de 1. Luego se comparan los resultados obtenidos y tenemos que la suma mayor es de 4.\n",
        "\n",
        "\n",
        "#Arreglo mayor que incluya el centro\n",
        "Una vez que terminamos de ver las ramas izquierdas y derechas del arreglo pasamos a revisar el arreglo que contenga al centro y de la mayor suma posible.\n",
        "\n",
        "Por lo que revisamos el sub-arreglo izquierdo $a[low:mid]$ = $[3,-2]$ guardando su suma más alta que es $3 - 2 = 1$. Luego vemos el derecho $a[mid+1:high] = [4,-5]$ y tenemos que la suma más alta es de $4$. Cuando sumamos ambos resultados tenemos una suma de $5$.\n",
        "\n",
        "#Comparación final\n",
        "Ahora comparamos los resultados y tenemos que:\n",
        "$Izquierda = 1$\n",
        "\n",
        "$Derecha = -1$\n",
        "\n",
        "$Centro = 5$\n",
        "\n",
        "Por lo que retornamos el valor $5$ y los índices $0$ y $2$ que corresponden al subarreglo $[3,-2,4]$ y el contador de recursiones, con esto el algoritmo se termina.\n",
        "\n",
        "\n",
        "\n",
        "\n",
        "\n"
      ],
      "metadata": {
        "id": "4YZGGfL8vJkY"
      }
    },
    {
      "cell_type": "markdown",
      "source": [
        "#2.3 Ejecución Paso a Paso (verbose = True)"
      ],
      "metadata": {
        "id": "68vXPfYVwAYK"
      }
    },
    {
      "cell_type": "code",
      "source": [
        "arr = [3,-2,4,-5]\n",
        "sumFinal = recursiones = 0\n",
        "a = b = 0\n",
        "sumFinal, recursiones,a,b = MaxSubArray (arr, 0, len(arr)-1, recursiones, True)\n",
        "print(\"la suma final es de: \", sumFinal)\n",
        "print(\"las posiciones que se sacaron son: \",a,\" y \", b)\n",
        "print(\"el arreglo final es: \", arr[a:b+1])"
      ],
      "metadata": {
        "colab": {
          "base_uri": "https://localhost:8080/"
        },
        "id": "BYQ5ozKBv_52",
        "outputId": "bc954123-d07f-4493-abad-bb61c2d2387b"
      },
      "execution_count": 14,
      "outputs": [
        {
          "output_type": "stream",
          "name": "stdout",
          "text": [
            "Cantidad de Recursiones:  0\n",
            "Low actual:  0 \n",
            "High actual:  3\n",
            "Arreglo de entrada:  [3, -2, 4, -5]\n",
            "mid =  1\n",
            "\n",
            "Revisando lado izquierdo del arreglo\n",
            "Cantidad de Recursiones:  0\n",
            "Low actual:  0 \n",
            "High actual:  1\n",
            "Arreglo de entrada:  [3, -2]\n",
            "mid =  0\n",
            "\n",
            "Revisando lado izquierdo del arreglo\n",
            "Cantidad de Recursiones:  0\n",
            "Low actual:  0 \n",
            "High actual:  0\n",
            "Arreglo de entrada:  [3]\n",
            "Arreglo es de largo 1\n",
            "La suma del lado izquierdo es:  3\n",
            "\n",
            "Revisando lado derecho del arreglo\n",
            "Cantidad de Recursiones:  0\n",
            "Low actual:  1 \n",
            "High actual:  1\n",
            "Arreglo de entrada:  [-2]\n",
            "Arreglo es de largo 1\n",
            "Right = -2\n",
            "La suma del lado izquierdo =  3\n",
            "La posición en la que empezará el subarreglo es =  0\n",
            "La suma del lado izquierdo es:  3\n",
            "\n",
            "Revisando lado derecho del arreglo\n",
            "Cantidad de Recursiones:  0\n",
            "Low actual:  2 \n",
            "High actual:  3\n",
            "Arreglo de entrada:  [4, -5]\n",
            "mid =  2\n",
            "\n",
            "Revisando lado izquierdo del arreglo\n",
            "Cantidad de Recursiones:  0\n",
            "Low actual:  2 \n",
            "High actual:  2\n",
            "Arreglo de entrada:  [4]\n",
            "Arreglo es de largo 1\n",
            "La suma del lado izquierdo es:  4\n",
            "\n",
            "Revisando lado derecho del arreglo\n",
            "Cantidad de Recursiones:  0\n",
            "Low actual:  3 \n",
            "High actual:  3\n",
            "Arreglo de entrada:  [-5]\n",
            "Arreglo es de largo 1\n",
            "Right = -5\n",
            "La suma del lado izquierdo =  4\n",
            "La posición en la que empezará el subarreglo es =  2\n",
            "Right = 4\n",
            "La suma del lado izquierdo =  1\n",
            "La posición en la que empezará el subarreglo es =  0\n",
            "se retorna :  5 0 2\n",
            "la suma final es de:  5\n",
            "las posiciones que se sacaron son:  0  y  2\n",
            "el arreglo final es:  [3, -2, 4]\n"
          ]
        }
      ]
    },
    {
      "cell_type": "markdown",
      "source": [
        "# 3. Análisis de tiempo de ejecución\n",
        "El algoritmo **MaxSubArray** tiene un tiempo de ejecución **tiempo de ejecución** $O(n*log(n))$ en el peor caso.\n",
        "\n",
        "##Prueba de teorema\n",
        "Para comprobar esto usaremos el **Teorema Maestro**, pero para esto tenemos que sacar la fórmula de recurrencia.\n",
        "\n",
        "###Fórmula de Recurrencia\n",
        "La fórmula de recurrencia **T(n)** del algoritmo se obtiene analizando sus partes.\n",
        "\n",
        "Caso base: Cuando $n = 1$, el algoritmo pregunta si el arreglo es de largo $1$, si lo es, retorna los valores sin usar ninguna recursion. Por lo tanto tenemos que $T(n) = O(1)$ si $n = 1$.\n",
        "\n",
        "Resto de casos: El algoritmo divide el problema en dos ($n/2$) y resolverá los sub-problemas por separado tardando $2T(n/2)$ en resolverlos. Luego el algoritmo busca el máximo subarreglo que contenga el centro, operación que tiene una complejidad de $O(n)$.\n",
        "\n",
        "Por lo que con esto, obtenemos que $T(n) = 2T(n/2) + O(n)$.\n",
        "\n",
        "###Teorema Maestro\n",
        "Usando el teorema maestro, podemos obtener la complejidad temporal del algoritmo:\n",
        "$T(n) \\leq aT(n/b)+O(n^d)$ donde $a=2$, $b=2$ y $d=1$. Ya que $2 = 2^1$, por lo que la complejidad temporal sería $O(n*log(n))$."
      ],
      "metadata": {
        "id": "ki7aN1adl7ru"
      }
    },
    {
      "cell_type": "markdown",
      "source": [
        "# 4. Demostración de Correctitud para MaxSubArrayMid\n",
        "\n",
        "MaxSubArrayMid encuentra la mayor suma posible de un subarreglo que contenga los elementos $mid$ y $mid + 1$. Esta función recibe el arreglo $arr$, y los índices $low$, $mid$ y $high$ que serán los índices que limitarán el espacio en el que vamos a operar.\n",
        "\n",
        "##Lado Izquierdo\n",
        "\n",
        "Revisamos lo que hay entre $arr[mid]$ y $arr[low]$. En este proceso sumaIzquierdaFinal contiene la mayor suma a la que se ha llegado, finalLow el índice al que se llegó a ese resultado y sumaActualIzq la suma resultante de la última iteración.\n",
        "\n",
        "Al principio sumaIzquierdaFinal contiene la mayor suma que hay entre $arr[mid]$ y $arr[mid]$, ya que vamos de derecha a izquierda, en la siguiente iteración del ciclo sumamos $arr[mid-1]$ a sumaActualIzq, y si sumaActualIzq es mayor que sumaIzquierdaFinal, actualizamos el valor de sumaIzquierda final al que corresponde y actualizamos el índice al que se llegó para conseguir dicho resultado, en este momento sumaIzquierdaFinal contiene la suma más grande entre $arr[mid]$ y $arr[mid-1]$. \n",
        "\n",
        "Ahora repetiremos el proceso hasta llegar al final, en ese momento tendremos el subarreglo que contenga la mayor suma entre $arr[mid]$ y $arr[low]$.\n",
        "\n",
        "##Lado Derecho\n",
        "\n",
        "Revisamos lo que hay entre $arr[mid+1]$ y $arr[high]$ (con $n$ siendo la última casilla). En este proceso sumaDerechaFinal contiene la mayor suma a la que se ha llegado, finalHigh el índice al que se llegó a ese resultado y sumaActualDer la suma resultante de la última iteración.\n",
        "\n",
        "El resto del proceso en básicamente un espejo del anterior pero aplicado desde $arr[mid+1]$ hasta $arr[high]$.\n",
        "\n",
        "Por lo que al final de este tendremos el subarreglo que contiene la mayor suma de la parte derecha del arreglo y que contenga a uno de los elementos centrales de este.\n",
        "\n",
        "##Paso final\n",
        "\n",
        "Al final tendremos los índices del subarreglo que contenga la mayor suma y que pase por en medio del arreglo en finalLow y finalHigh. Y la suma que estábamos buscando que es el resultado de sumaIzquierdaFinal y sumaDerechaFinal."
      ],
      "metadata": {
        "id": "3_vWGI0wlsHp"
      }
    },
    {
      "cell_type": "markdown",
      "source": [
        "# 5. Demostración de correctitud por Inducción para MaxSubArray\n",
        "\n",
        "Caso base $(n = 1)$: Cuando el largo del algoritmo es 1, y queremos conseguir la mayor suma de elementos consecutivos. La respuesta es el mismo elemento del arreglo.\n",
        "\n",
        "Resto de casos: Asumimos que el algoritmo entregará la respuesta correcta para cualquier arreglo de largo $n \\geq 1$. Este algoritmo tiene 3 pasos, uno en el que se llama a sí mismo para buscar la respuesta en en lado izquierdo del arreglo, otro para el lado derecho. Y la llamada a MaxSubArrayMid que lo busca para un arreglo que pasar por el medio, asumiremos que este algoritmo encontrará el valor de la mayor suma del subarreglo que pasa por el medio.\n",
        "\n",
        "Pasos 1 y 2: el propósito de estas llamadas, son para encontrar los subarreglos que posean las mayores sumas de los lados izquierdos y derechos del algoritmo, por la hipótesis inductivas sabemos que esta llamada encontrará y retornará el valor de la suma y los índices de los subarreglos para los lados izquierdos y derechos.\n",
        "\n",
        "Paso 3: se llama a la función MaxSubArrayMid, que busca la mayor suma que puede tener un subarreglo que pase por el medio del arreglo. Asumimos que entregará la respuesta correcta.\n",
        "\n",
        "Ahora tenemos tres posibles respuestas, que compararemos para retornar el valor que corresponda."
      ],
      "metadata": {
        "id": "3MzVjWG-l2wM"
      }
    },
    {
      "cell_type": "markdown",
      "source": [
        "# 6. Experimentos"
      ],
      "metadata": {
        "id": "e1tPetvEmEB0"
      }
    },
    {
      "cell_type": "markdown",
      "source": [
        "# 6.1 Comparación con MaxSubArray implementado con Kadane\n"
      ],
      "metadata": {
        "id": "V_i9jXxGmJvh"
      }
    },
    {
      "cell_type": "code",
      "source": [
        "import datetime\n",
        "import random\n",
        "from timeit import repeat\n",
        "from sys import maxsize\n",
        "import matplotlib.pyplot as plt\n",
        "\n",
        "def kadane(a):\n",
        "       \n",
        "    max_so_far = -maxsize - 1\n",
        "    max_ending_here = 0\n",
        "       \n",
        "    for i in range(0, len(a)):\n",
        "        max_ending_here = max_ending_here + a[i]\n",
        "        if (max_so_far < max_ending_here):\n",
        "            max_so_far = max_ending_here\n",
        "  \n",
        "        if max_ending_here < 0:\n",
        "            max_ending_here = 0\n",
        "    return max_so_far\n",
        "\n",
        "x=[];\n",
        "y=[];\n",
        "yb=[];\n",
        "\n",
        "for n in range(1,501):\n",
        "  a = random.sample(range(1, 1000), n)\n",
        "  x.append(n)\n",
        "  aux = 0\n",
        "\n",
        "  t = repeat(setup=\"from __main__ import MaxSubArray\", stmt=f\"MaxSubArray({a}, 0, len({a})-1,{aux})\", repeat=1, number=10)\n",
        "  y.append(t)\n",
        "  t = repeat(setup=\"from __main__ import kadane\", stmt=f\"kadane({arr})\", repeat=1, number=10)\n",
        "  yb.append(t)\n",
        "\n",
        "plt.plot(x,y)\n",
        "plt.plot(x,yb)\n",
        "plt.legend([\"MaxSubArray\", \"Algoritmo de Kadane\"])\n",
        "\n",
        "plt.xlabel('n')\n",
        "plt.ylabel('Tiempo en milisegundos')\n",
        "plt.show()"
      ],
      "metadata": {
        "colab": {
          "base_uri": "https://localhost:8080/",
          "height": 279
        },
        "id": "zdnF2tJ_-rZf",
        "outputId": "bc44a448-5e9e-4191-98ac-2d26e757a05c"
      },
      "execution_count": 13,
      "outputs": [
        {
          "output_type": "display_data",
          "data": {
            "text/plain": [
              "<Figure size 432x288 with 1 Axes>"
            ],
            "image/png": "[encoded data removed]"
          },
          "metadata": {
            "needs_background": "light"
          }
        }
      ]
    },
    {
      "cell_type": "markdown",
      "source": [
        "# 6.2 Cantidad de recursiones"
      ],
      "metadata": {
        "id": "wqaPhZJjmR1L"
      }
    },
    {
      "cell_type": "code",
      "source": [
        "import random\n",
        "import matplotlib.pyplot as plt\n",
        "\n",
        "x=[];\n",
        "y=[];\n",
        "\n",
        "for n in range(2,101):\n",
        "  arr = random.sample(range(-50, 50), n)\n",
        "  x.append(n)\n",
        "  suma = low = high = recursiones = 0\n",
        "  suma, recursiones, low, high = MaxSubArray(arr, 0, (len(arr)-1), recursiones, False)\n",
        "  y.append(recursiones)\n",
        "\n",
        "plt.plot(x,y)\n",
        "\n",
        "plt.xlabel('Largo del arreglo')\n",
        "plt.ylabel('número de comparaciones')\n",
        "plt.show()"
      ],
      "metadata": {
        "colab": {
          "base_uri": "https://localhost:8080/",
          "height": 279
        },
        "id": "H7rdlqd4S0no",
        "outputId": "b977db40-47d0-4f79-8d43-b7b499fd1690"
      },
      "execution_count": 28,
      "outputs": [
        {
          "output_type": "display_data",
          "data": {
            "text/plain": [
              "<Figure size 432x288 with 1 Axes>"
            ],
            "image/png": "[encoded data removed]"
          },
          "metadata": {
            "needs_background": "light"
          }
        }
      ]
    },
    {
      "cell_type": "markdown",
      "source": [
        "# 6.3 Análisis de los resultados obtenidos\n",
        "\n",
        "##Primer Experimento\n",
        "En la gráfica que obtenemos se puede ver que el algoritmo de kadane es mucho más rápido que el MaxSubArray, los motivos de esto serían la complejidad temporal, que en kadane $O(n)$ y en MaxSubArray es $O(nlogn)$. Pero otra que me llamó la atención es que en Python las recursiones son muy caras en temas de tiempo, y debido a que MaxSubArray se llama a sí misma dos veces cada vez que se usa, el tiempo que tarda en acabarse se dispara.\n",
        "\n",
        "##Segundo Experimento\n",
        "\n",
        "Este consistió en ver como evolucionaba la cantidad de recursiones dependiendo de la cantidad de elementos del arreglo, y aquí se puede ver que el crecimiento es lineal, lo que debe de ser debido a que la cantidad de recursiones depende únicamente de la cantidad de elementos que tenga el arreglo, y no de los \"avances\" que se hayan hecho para conseguir la respuesta esperada como podría pasar con un algoritmo de ordenamiento."
      ],
      "metadata": {
        "id": "iG4IfubimWIs"
      }
    }
  ]
}